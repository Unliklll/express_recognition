{
 "cells": [
  {
   "cell_type": "code",
   "execution_count": 1,
   "metadata": {
    "collapsed": false
   },
   "outputs": [
    {
     "name": "stderr",
     "output_type": "stream",
     "text": [
      "Using TensorFlow backend.\n"
     ]
    }
   ],
   "source": [
    "# import keras\n",
    "\n",
    "# from keras.layers import Activation, MaxPooling2D, Conv2D, Dense, Input, Dropout\n",
    "# from keras.layers import Flatten, BatchNormalization, AveragePooling2D\n",
    "# from keras.models import Model\n",
    "# from keras import layers\n",
    "# from keras import optimizers\n",
    "\n",
    "# def conv2d_bn(x, filters, num_row, num_col, padding='same', strides=(1, 1)):\n",
    "#     x = Conv2D(filters, (num_row, num_col), strides=strides, padding=padding, use_bias=False)(x)\n",
    "#     x = BatchNormalization(axis=-1)(x)\n",
    "#     x = Activation('relu')(x)\n",
    "#     return x\n",
    "\n",
    "# def InceptionV3(img_input):\n",
    "#     x = conv2d_bn(img_input, 32, 3, 3, strides=(2, 2), padding='valid')\n",
    "#     x = conv2d_bn(x, 32, 3, 3, padding='valid')\n",
    "#     x = conv2d_bn(x, 64, 3, 3)\n",
    "#     x = MaxPooling2D((3, 3), strides=(2, 2))(x)\n",
    "\n",
    "#     x = conv2d_bn(x, 80, 1, 1, padding='valid')\n",
    "#     x = conv2d_bn(x, 192, 3, 3, padding='valid')\n",
    "#     x = MaxPooling2D((3, 3), strides=(2, 2))(x)\n",
    "\n",
    "#     # mixed 0, 1, 2: 35 x 35 x 256\n",
    "#     branch1x1 = conv2d_bn(x, 64, 1, 1)\n",
    "\n",
    "#     branch5x5 = conv2d_bn(x, 48, 1, 1)\n",
    "#     branch5x5 = conv2d_bn(branch5x5, 64, 5, 5)\n",
    "\n",
    "#     branch3x3dbl = conv2d_bn(x, 64, 1, 1)\n",
    "#     branch3x3dbl = conv2d_bn(branch3x3dbl, 96, 3, 3)\n",
    "#     branch3x3dbl = conv2d_bn(branch3x3dbl, 96, 3, 3)\n",
    "\n",
    "#     branch_pool = AveragePooling2D((3, 3), strides=(1, 1), padding='same')(x)\n",
    "#     branch_pool = conv2d_bn(branch_pool, 32, 1, 1)\n",
    "#     x = keras.layers.concatenate(\n",
    "#         [branch1x1, branch5x5, branch3x3dbl, branch_pool],\n",
    "#         axis=-1)\n",
    "\n",
    "#     # mixed 1: 35 x 35 x 256\n",
    "#     branch1x1 = conv2d_bn(x, 64, 1, 1)\n",
    "\n",
    "#     branch5x5 = conv2d_bn(x, 48, 1, 1)\n",
    "#     branch5x5 = conv2d_bn(branch5x5, 64, 5, 5)\n",
    "\n",
    "#     branch3x3dbl = conv2d_bn(x, 64, 1, 1)\n",
    "#     branch3x3dbl = conv2d_bn(branch3x3dbl, 96, 3, 3)\n",
    "#     branch3x3dbl = conv2d_bn(branch3x3dbl, 96, 3, 3)\n",
    "\n",
    "#     branch_pool = AveragePooling2D((3, 3), strides=(1, 1), padding='same')(x)\n",
    "#     branch_pool = conv2d_bn(branch_pool, 64, 1, 1)\n",
    "#     x = layers.concatenate(\n",
    "#         [branch1x1, branch5x5, branch3x3dbl, branch_pool],\n",
    "#         axis=-1)\n",
    "\n",
    "#     # mixed 2: 35 x 35 x 256\n",
    "#     branch1x1 = conv2d_bn(x, 64, 1, 1)\n",
    "\n",
    "#     branch5x5 = conv2d_bn(x, 48, 1, 1)\n",
    "#     branch5x5 = conv2d_bn(branch5x5, 64, 5, 5)\n",
    "\n",
    "#     branch3x3dbl = conv2d_bn(x, 64, 1, 1)\n",
    "#     branch3x3dbl = conv2d_bn(branch3x3dbl, 96, 3, 3)\n",
    "#     branch3x3dbl = conv2d_bn(branch3x3dbl, 96, 3, 3)\n",
    "\n",
    "#     branch_pool = AveragePooling2D((3, 3), strides=(1, 1), padding='same')(x)\n",
    "#     branch_pool = conv2d_bn(branch_pool, 64, 1, 1)\n",
    "#     x = layers.concatenate(\n",
    "#         [branch1x1, branch5x5, branch3x3dbl, branch_pool],\n",
    "#         axis=-1)\n",
    "\n",
    "#     # mixed 3: 17 x 17 x 768\n",
    "#     branch3x3 = conv2d_bn(x, 384, 3, 3, strides=(2, 2), padding='valid')\n",
    "\n",
    "#     branch3x3dbl = conv2d_bn(x, 64, 1, 1)\n",
    "#     branch3x3dbl = conv2d_bn(branch3x3dbl, 96, 3, 3)\n",
    "#     branch3x3dbl = conv2d_bn(\n",
    "#         branch3x3dbl, 96, 3, 3, strides=(2, 2), padding='valid')\n",
    "\n",
    "#     branch_pool = MaxPooling2D((3, 3), strides=(2, 2))(x)\n",
    "#     x = layers.concatenate(\n",
    "#         [branch3x3, branch3x3dbl, branch_pool], axis=-1)\n",
    "\n",
    "#     # mixed 4: 17 x 17 x 768\n",
    "#     branch1x1 = conv2d_bn(x, 192, 1, 1)\n",
    "\n",
    "#     branch7x7 = conv2d_bn(x, 128, 1, 1)\n",
    "#     branch7x7 = conv2d_bn(branch7x7, 128, 1, 7)\n",
    "#     branch7x7 = conv2d_bn(branch7x7, 192, 7, 1)\n",
    "\n",
    "#     branch7x7dbl = conv2d_bn(x, 128, 1, 1)\n",
    "#     branch7x7dbl = conv2d_bn(branch7x7dbl, 128, 7, 1)\n",
    "#     branch7x7dbl = conv2d_bn(branch7x7dbl, 128, 1, 7)\n",
    "#     branch7x7dbl = conv2d_bn(branch7x7dbl, 128, 7, 1)\n",
    "#     branch7x7dbl = conv2d_bn(branch7x7dbl, 192, 1, 7)\n",
    "\n",
    "#     branch_pool = AveragePooling2D((3, 3), strides=(1, 1), padding='same')(x)\n",
    "#     branch_pool = conv2d_bn(branch_pool, 192, 1, 1)\n",
    "#     x = layers.concatenate(\n",
    "#         [branch1x1, branch7x7, branch7x7dbl, branch_pool],\n",
    "#         axis=-1)\n",
    "\n",
    "#     # mixed 5, 6: 17 x 17 x 768\n",
    "#     for i in range(2):\n",
    "#         branch1x1 = conv2d_bn(x, 192, 1, 1)\n",
    "\n",
    "#         branch7x7 = conv2d_bn(x, 160, 1, 1)\n",
    "#         branch7x7 = conv2d_bn(branch7x7, 160, 1, 7)\n",
    "#         branch7x7 = conv2d_bn(branch7x7, 192, 7, 1)\n",
    "\n",
    "#         branch7x7dbl = conv2d_bn(x, 160, 1, 1)\n",
    "#         branch7x7dbl = conv2d_bn(branch7x7dbl, 160, 7, 1)\n",
    "#         branch7x7dbl = conv2d_bn(branch7x7dbl, 160, 1, 7)\n",
    "#         branch7x7dbl = conv2d_bn(branch7x7dbl, 160, 7, 1)\n",
    "#         branch7x7dbl = conv2d_bn(branch7x7dbl, 192, 1, 7)\n",
    "\n",
    "#         branch_pool = AveragePooling2D(\n",
    "#             (3, 3), strides=(1, 1), padding='same')(x)\n",
    "#         branch_pool = conv2d_bn(branch_pool, 192, 1, 1)\n",
    "#         x = layers.concatenate(\n",
    "#             [branch1x1, branch7x7, branch7x7dbl, branch_pool],\n",
    "#             axis=-1)\n",
    "\n",
    "#     # mixed 7: 17 x 17 x 768\n",
    "#     branch1x1 = conv2d_bn(x, 192, 1, 1)\n",
    "\n",
    "#     branch7x7 = conv2d_bn(x, 192, 1, 1)\n",
    "#     branch7x7 = conv2d_bn(branch7x7, 192, 1, 7)\n",
    "#     branch7x7 = conv2d_bn(branch7x7, 192, 7, 1)\n",
    "\n",
    "#     branch7x7dbl = conv2d_bn(x, 192, 1, 1)\n",
    "#     branch7x7dbl = conv2d_bn(branch7x7dbl, 192, 7, 1)\n",
    "#     branch7x7dbl = conv2d_bn(branch7x7dbl, 192, 1, 7)\n",
    "#     branch7x7dbl = conv2d_bn(branch7x7dbl, 192, 7, 1)\n",
    "#     branch7x7dbl = conv2d_bn(branch7x7dbl, 192, 1, 7)\n",
    "\n",
    "#     branch_pool = AveragePooling2D((3, 3), strides=(1, 1), padding='same')(x)\n",
    "#     branch_pool = conv2d_bn(branch_pool, 192, 1, 1)\n",
    "#     x = layers.concatenate(\n",
    "#         [branch1x1, branch7x7, branch7x7dbl, branch_pool],\n",
    "#         axis=-1)\n",
    "\n",
    "#     # mixed 8: 8 x 8 x 1280\n",
    "#     branch3x3 = conv2d_bn(x, 192, 1, 1)\n",
    "#     branch3x3 = conv2d_bn(branch3x3, 320, 3, 3,\n",
    "#                           strides=(2, 2), padding='valid')\n",
    "\n",
    "#     branch7x7x3 = conv2d_bn(x, 192, 1, 1)\n",
    "#     branch7x7x3 = conv2d_bn(branch7x7x3, 192, 1, 7)\n",
    "#     branch7x7x3 = conv2d_bn(branch7x7x3, 192, 7, 1)\n",
    "#     branch7x7x3 = conv2d_bn(\n",
    "#         branch7x7x3, 192, 3, 3, strides=(2, 2), padding='valid')\n",
    "\n",
    "#     branch_pool = MaxPooling2D((3, 3), strides=(2, 2))(x)\n",
    "#     x = layers.concatenate(\n",
    "#         [branch3x3, branch7x7x3, branch_pool], axis=-1)\n",
    "\n",
    "#     # mixed 9: 8 x 8 x 2048\n",
    "#     for i in range(2):\n",
    "#         branch1x1 = conv2d_bn(x, 320, 1, 1)\n",
    "\n",
    "#         branch3x3 = conv2d_bn(x, 384, 1, 1)\n",
    "#         branch3x3_1 = conv2d_bn(branch3x3, 384, 1, 3)\n",
    "#         branch3x3_2 = conv2d_bn(branch3x3, 384, 3, 1)\n",
    "#         branch3x3 = layers.concatenate(\n",
    "#             [branch3x3_1, branch3x3_2], axis=-1)\n",
    "\n",
    "#         branch3x3dbl = conv2d_bn(x, 448, 1, 1)\n",
    "#         branch3x3dbl = conv2d_bn(branch3x3dbl, 384, 3, 3)\n",
    "#         branch3x3dbl_1 = conv2d_bn(branch3x3dbl, 384, 1, 3)\n",
    "#         branch3x3dbl_2 = conv2d_bn(branch3x3dbl, 384, 3, 1)\n",
    "#         branch3x3dbl = layers.concatenate(\n",
    "#             [branch3x3dbl_1, branch3x3dbl_2], axis=-1)\n",
    "\n",
    "#         branch_pool = AveragePooling2D(\n",
    "#             (3, 3), strides=(1, 1), padding='same')(x)\n",
    "#         branch_pool = conv2d_bn(branch_pool, 192, 1, 1)\n",
    "#         x = layers.concatenate(\n",
    "#             [branch1x1, branch3x3, branch3x3dbl, branch_pool],\n",
    "#             axis=-1)\n",
    "#     x = AveragePooling2D(5, 1, 'valid')(x)\n",
    "#     x = Flatten()(x)\n",
    "#     x = Dense(6, activation='sigmoid')(x)\n",
    "#     model = Model(inputs=img_input, outputs=x)\n",
    "#     return model\n",
    "\n",
    "# input_tensor = Input(shape=(224, 224, 3))\n",
    "# inception_model = InceptionV3(input_tensor)\n",
    "\n",
    "# # from keras.utils.vis_utils import model_to_dot\n",
    "\n",
    "# # mymodel = model_to_dot(inception_model, show_shapes=True)\n",
    "\n",
    "# # mymodel.write_png('./model.png')\n",
    "\n",
    "# # sgd = optimizers.SGD(lr=0.001, decay=1e-6, momentum=0.9, nesterov=True)\n",
    "# # inception_model.compile(optimizer='adadelta', loss='categorical_crossentropy', metrics=['accuracy'])\n",
    "\n",
    "# # batch_size = 32\n",
    "\n",
    "# # from keras.preprocessing.image import ImageDataGenerator\n",
    "\n",
    "# # train_image = ImageDataGenerator(rescale=1./255)\n",
    "\n",
    "# # train_generator = train_image.flow_from_directory('../data/train/province', target_size=(224, 224),\n",
    "# #                                                  batch_size=batch_size,\n",
    "# #                                                  class_mode='categorical'\n",
    "# #                                                  )\n",
    "\n",
    "# # inception_model.fit_generator(train_generator, steps_per_epoch=340//batch_size, epochs=20)"
   ]
  },
  {
   "cell_type": "code",
   "execution_count": 2,
   "metadata": {
    "collapsed": false
   },
   "outputs": [
    {
     "name": "stderr",
     "output_type": "stream",
     "text": [
      "Using TensorFlow backend.\n"
     ]
    }
   ],
   "source": [
    "import keras\n",
    "\n",
    "from keras.layers import Activation, MaxPooling2D, Conv2D, Dense, Input, Dropout\n",
    "from keras.layers import Flatten, BatchNormalization, AveragePooling2D\n",
    "from keras.models import Model\n",
    "from keras import layers\n",
    "from keras import optimizers"
   ]
  },
  {
   "cell_type": "code",
   "execution_count": 3,
   "metadata": {
    "collapsed": false
   },
   "outputs": [],
   "source": [
    "mymodel = keras.applications.InceptionV3(include_top=True, input_shape=(299, 299, 3), weights=None, classes=30)"
   ]
  },
  {
   "cell_type": "code",
   "execution_count": 4,
   "metadata": {
    "collapsed": false
   },
   "outputs": [],
   "source": [
    "# mymodel.summary()"
   ]
  },
  {
   "cell_type": "code",
   "execution_count": 5,
   "metadata": {
    "collapsed": false
   },
   "outputs": [
    {
     "name": "stdout",
     "output_type": "stream",
     "text": [
      "Found 3900 images belonging to 30 classes.\n",
      "Found 3900 images belonging to 30 classes.\n",
      "Epoch 1/10\n",
      "243/243 [==============================] - 223s - loss: 1.4628 - acc: 0.5736 - val_loss: 3.3534 - val_acc: 0.1844\n",
      "Epoch 2/10\n",
      "243/243 [==============================] - 217s - loss: 0.3196 - acc: 0.9073 - val_loss: 5.0856 - val_acc: 0.3297\n",
      "Epoch 3/10\n",
      "243/243 [==============================] - 214s - loss: 0.1753 - acc: 0.9444 - val_loss: 2.1075 - val_acc: 0.6078\n",
      "Epoch 4/10\n",
      "243/243 [==============================] - 218s - loss: 0.0960 - acc: 0.9757 - val_loss: 0.5696 - val_acc: 0.8344\n",
      "Epoch 5/10\n",
      "243/243 [==============================] - 216s - loss: 0.0580 - acc: 0.9830 - val_loss: 0.2271 - val_acc: 0.9308\n",
      "Epoch 6/10\n",
      "243/243 [==============================] - 215s - loss: 0.0427 - acc: 0.9866 - val_loss: 0.0377 - val_acc: 0.9875\n",
      "Epoch 7/10\n",
      "243/243 [==============================] - 214s - loss: 0.0241 - acc: 0.9941 - val_loss: 0.0090 - val_acc: 0.9984\n",
      "Epoch 8/10\n",
      "243/243 [==============================] - 214s - loss: 0.0148 - acc: 0.9964 - val_loss: 0.0051 - val_acc: 0.9969\n",
      "Epoch 9/10\n",
      "243/243 [==============================] - 215s - loss: 0.0240 - acc: 0.9943 - val_loss: 0.0384 - val_acc: 0.9858\n",
      "Epoch 10/10\n",
      "243/243 [==============================] - 215s - loss: 0.0162 - acc: 0.9967 - val_loss: 0.0068 - val_acc: 0.9984\n"
     ]
    },
    {
     "data": {
      "text/plain": [
       "<keras.callbacks.History at 0x7fbc1776a320>"
      ]
     },
     "execution_count": 5,
     "metadata": {},
     "output_type": "execute_result"
    }
   ],
   "source": [
    "mymodel.compile(optimizer='adadelta', loss='categorical_crossentropy', metrics=['accuracy'])\n",
    "\n",
    "batch_size = 16\n",
    "\n",
    "from keras.preprocessing.image import ImageDataGenerator\n",
    "\n",
    "train_image = ImageDataGenerator()\n",
    "\n",
    "train_generator = train_image.flow_from_directory('../data/train/province', target_size=(299, 299),\n",
    "                                                 batch_size=batch_size,\n",
    "                                                 class_mode='categorical')\n",
    "val_image = ImageDataGenerator()\n",
    "\n",
    "val_generator = val_image.flow_from_directory('../data/val/province', target_size=(299, 299), \n",
    "                                              batch_size=32, class_mode='categorical')\n",
    "mymodel.fit_generator(train_generator, steps_per_epoch=3900//batch_size, epochs=10, \n",
    "                      validation_data=val_generator, validation_steps=20)"
   ]
  },
  {
   "cell_type": "code",
   "execution_count": 6,
   "metadata": {
    "collapsed": true
   },
   "outputs": [],
   "source": [
    "classes = [\n",
    "'anhui', \n",
    "'beijing', \n",
    "'chongqing', \n",
    "'fujian', \n",
    "'gansu', \n",
    "'guangdong', \n",
    "'guangxi', \n",
    "'guizhou', \n",
    "'hainan', \n",
    "'hebei',\n",
    " 'heilongjiang',\n",
    " 'henan',\n",
    " 'hubei',\n",
    " 'hunan',\n",
    " 'jiangsu',\n",
    " 'jiangxi',\n",
    " 'jilin',\n",
    " 'liaoning',\n",
    " 'neimenggu',\n",
    " 'ningxia',\n",
    " 'qinghai',\n",
    " 'shandong',\n",
    " 'shanghai',\n",
    " 'shanxi',\n",
    " 'shanxi0',\n",
    " 'sichuan',\n",
    " 'tianjin',\n",
    " 'xinjiang',\n",
    " 'yunnan',\n",
    " 'zhejiang']"
   ]
  },
  {
   "cell_type": "code",
   "execution_count": 7,
   "metadata": {
    "collapsed": false
   },
   "outputs": [
    {
     "name": "stdout",
     "output_type": "stream",
     "text": [
      "Found 3900 images belonging to 30 classes.\n"
     ]
    }
   ],
   "source": [
    "val_image = ImageDataGenerator()\n",
    "\n",
    "val_generator = val_image.flow_from_directory('../data/val/province', target_size=(299, 299), \n",
    "                                              batch_size=32, class_mode='categorical')"
   ]
  },
  {
   "cell_type": "code",
   "execution_count": 18,
   "metadata": {
    "collapsed": false,
    "scrolled": true
   },
   "outputs": [
    {
     "data": {
      "text/plain": [
       "<matplotlib.image.AxesImage at 0x7fbc0c45d8d0>"
      ]
     },
     "execution_count": 18,
     "metadata": {},
     "output_type": "execute_result"
    },
    {
     "data": {
      "image/png": "[encoded data removed]",
      "text/plain": [
       "<matplotlib.figure.Figure at 0x7fbc0c64b128>"
      ]
     },
     "metadata": {},
     "output_type": "display_data"
    }
   ],
   "source": [
    "img = iter(val_generator).next()\n",
    "\n",
    "import matplotlib.pyplot as plt\n",
    "%matplotlib inline\n",
    "\n",
    "plt.imshow(img[0][0]/255.)"
   ]
  },
  {
   "cell_type": "code",
   "execution_count": 19,
   "metadata": {
    "collapsed": false
   },
   "outputs": [],
   "source": [
    "pred = mymodel.predict(img[0][0:1])"
   ]
  },
  {
   "cell_type": "code",
   "execution_count": 21,
   "metadata": {
    "collapsed": true
   },
   "outputs": [],
   "source": [
    "import numpy as np"
   ]
  },
  {
   "cell_type": "code",
   "execution_count": 22,
   "metadata": {
    "collapsed": false
   },
   "outputs": [],
   "source": [
    "label = np.argmax(pred, 1)"
   ]
  },
  {
   "cell_type": "code",
   "execution_count": 24,
   "metadata": {
    "collapsed": false
   },
   "outputs": [
    {
     "data": {
      "text/plain": [
       "'hainan'"
      ]
     },
     "execution_count": 24,
     "metadata": {},
     "output_type": "execute_result"
    }
   ],
   "source": [
    "classes[label[0]]"
   ]
  },
  {
   "cell_type": "code",
   "execution_count": 26,
   "metadata": {
    "collapsed": false
   },
   "outputs": [
    {
     "data": {
      "text/plain": [
       "'shanxi0'"
      ]
     },
     "execution_count": 26,
     "metadata": {},
     "output_type": "execute_result"
    },
    {
     "data": {
      "image/png": "[encoded data removed]",
      "text/plain": [
       "<matplotlib.figure.Figure at 0x7fbc067dba58>"
      ]
     },
     "metadata": {},
     "output_type": "display_data"
    }
   ],
   "source": [
    "plt.imshow(img[0][1]/255.)\n",
    "\n",
    "pred = np.argmax(mymodel.predict(img[0][1:2]), 1)\n",
    "classes[pred[0]]"
   ]
  },
  {
   "cell_type": "code",
   "execution_count": 27,
   "metadata": {
    "collapsed": false
   },
   "outputs": [
    {
     "data": {
      "text/plain": [
       "'liaoning'"
      ]
     },
     "execution_count": 27,
     "metadata": {},
     "output_type": "execute_result"
    },
    {
     "data": {
      "image/png": "[encoded data removed]",
      "text/plain": [
       "<matplotlib.figure.Figure at 0x7fbc06774358>"
      ]
     },
     "metadata": {},
     "output_type": "display_data"
    }
   ],
   "source": [
    "plt.imshow(img[0][2]/255.)\n",
    "\n",
    "pred = np.argmax(mymodel.predict(img[0][2:3]), 1)\n",
    "classes[pred[0]]"
   ]
  },
  {
   "cell_type": "code",
   "execution_count": 28,
   "metadata": {
    "collapsed": false
   },
   "outputs": [
    {
     "data": {
      "text/plain": [
       "'jilin'"
      ]
     },
     "execution_count": 28,
     "metadata": {},
     "output_type": "execute_result"
    },
    {
     "data": {
      "image/png": "[encoded data removed]",
      "text/plain": [
       "<matplotlib.figure.Figure at 0x7fbc066acb00>"
      ]
     },
     "metadata": {},
     "output_type": "display_data"
    }
   ],
   "source": [
    "plt.imshow(img[0][3]/255.)\n",
    "\n",
    "pred = np.argmax(mymodel.predict(img[0][3:4]), 1)\n",
    "classes[pred[0]]"
   ]
  },
  {
   "cell_type": "code",
   "execution_count": null,
   "metadata": {
    "collapsed": true
   },
   "outputs": [],
   "source": []
  }
 ],
 "metadata": {
  "anaconda-cloud": {},
  "kernelspec": {
   "display_name": "Python [conda env:tensorflow]",
   "language": "python",
   "name": "conda-env-tensorflow-py"
  },
  "language_info": {
   "codemirror_mode": {
    "name": "ipython",
    "version": 3
   },
   "file_extension": ".py",
   "mimetype": "text/x-python",
   "name": "python",
   "nbconvert_exporter": "python",
   "pygments_lexer": "ipython3",
   "version": "3.5.3"
  }
 },
 "nbformat": 4,
 "nbformat_minor": 1
}
