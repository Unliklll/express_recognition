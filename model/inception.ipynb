{
 "cells": [
  {
   "cell_type": "code",
   "execution_count": 1,
   "metadata": {
    "collapsed": false
   },
   "outputs": [
    {
     "name": "stderr",
     "output_type": "stream",
     "text": [
      "Using TensorFlow backend.\n"
     ]
    }
   ],
   "source": [
    "import keras\n",
    "from keras.layers import Activation, MaxPooling2D, Conv2D, Dense, Input, Dropout\n",
    "from keras.layers import Flatten, BatchNormalization, AveragePooling2D\n",
    "from keras.models import Model\n",
    "from keras import layers\n",
    "from keras import optimizers\n",
    "from keras.preprocessing.image import ImageDataGenerator"
   ]
  },
  {
   "cell_type": "code",
   "execution_count": 2,
   "metadata": {
    "collapsed": false
   },
   "outputs": [],
   "source": [
    "mymodel = keras.applications.InceptionV3(include_top=True, input_shape=(299, 299, 3), weights=None, classes=30)"
   ]
  },
  {
   "cell_type": "code",
   "execution_count": 3,
   "metadata": {
    "collapsed": false
   },
   "outputs": [],
   "source": [
    "# mymodel.summary()"
   ]
  },
  {
   "cell_type": "code",
   "execution_count": 4,
   "metadata": {
    "collapsed": true
   },
   "outputs": [],
   "source": [
    "batch_size = 16"
   ]
  },
  {
   "cell_type": "code",
   "execution_count": 5,
   "metadata": {
    "collapsed": false
   },
   "outputs": [
    {
     "name": "stdout",
     "output_type": "stream",
     "text": [
      "Found 4311 images belonging to 30 classes.\n"
     ]
    }
   ],
   "source": [
    "train_image = ImageDataGenerator(rescale=1./255)\n",
    "train_generator = train_image.flow_from_directory('../data/train/province', \n",
    "                                                  target_size=(299, 299),\n",
    "                                                  batch_size=batch_size,\n",
    "                                                  class_mode='categorical')"
   ]
  },
  {
   "cell_type": "code",
   "execution_count": 6,
   "metadata": {
    "collapsed": false
   },
   "outputs": [
    {
     "name": "stdout",
     "output_type": "stream",
     "text": [
      "Found 340 images belonging to 30 classes.\n"
     ]
    }
   ],
   "source": [
    "val_image = ImageDataGenerator(rescale=1./255)\n",
    "\n",
    "val_generator = val_image.flow_from_directory('../data/val/province', \n",
    "                                              target_size=(299, 299), \n",
    "                                              batch_size=32, \n",
    "                                              class_mode='categorical')"
   ]
  },
  {
   "cell_type": "code",
   "execution_count": null,
   "metadata": {
    "collapsed": true
   },
   "outputs": [],
   "source": [
    "mymodel.compile(optimizer='adadelta', loss='categorical_crossentropy', metrics=['accuracy'])"
   ]
  },
  {
   "cell_type": "code",
   "execution_count": 14,
   "metadata": {
    "collapsed": false
   },
   "outputs": [
    {
     "name": "stdout",
     "output_type": "stream",
     "text": [
      "Epoch 1/10\n",
      "243/243 [==============================] - 207s - loss: 5.0274e-05 - acc: 1.0000 - val_loss: 0.3721 - val_acc: 0.8929\n",
      "Epoch 2/10\n",
      "243/243 [==============================] - 207s - loss: 3.5037e-05 - acc: 1.0000 - val_loss: 0.4778 - val_acc: 0.8896\n",
      "Epoch 3/10\n",
      "243/243 [==============================] - 207s - loss: 2.9909e-05 - acc: 1.0000 - val_loss: 0.5389 - val_acc: 0.8701\n",
      "Epoch 4/10\n",
      "243/243 [==============================] - 208s - loss: 2.3596e-05 - acc: 1.0000 - val_loss: 0.4234 - val_acc: 0.8929\n",
      "Epoch 5/10\n",
      "243/243 [==============================] - 210s - loss: 6.1883e-05 - acc: 1.0000 - val_loss: 0.4419 - val_acc: 0.8831\n",
      "Epoch 6/10\n",
      "243/243 [==============================] - 207s - loss: 4.1832e-05 - acc: 1.0000 - val_loss: 0.3918 - val_acc: 0.9026\n",
      "Epoch 7/10\n",
      "243/243 [==============================] - 208s - loss: 1.7274e-05 - acc: 1.0000 - val_loss: 0.4517 - val_acc: 0.8831\n",
      "Epoch 8/10\n",
      "243/243 [==============================] - 209s - loss: 1.9709e-05 - acc: 1.0000 - val_loss: 0.4416 - val_acc: 0.8875\n",
      "Epoch 9/10\n",
      "243/243 [==============================] - 208s - loss: 3.4322e-05 - acc: 1.0000 - val_loss: 0.4290 - val_acc: 0.8864\n",
      "Epoch 10/10\n",
      "243/243 [==============================] - 208s - loss: 2.4719e-05 - acc: 1.0000 - val_loss: 0.3288 - val_acc: 0.9156\n"
     ]
    },
    {
     "data": {
      "text/plain": [
       "<keras.callbacks.History at 0x7fd4a6d35828>"
      ]
     },
     "execution_count": 14,
     "metadata": {},
     "output_type": "execute_result"
    }
   ],
   "source": [
    "mymodel.fit_generator(train_generator, steps_per_epoch=3900//batch_size, epochs=10, \n",
    "                      validation_data=val_generator, validation_steps=340//32)"
   ]
  },
  {
   "cell_type": "code",
   "execution_count": null,
   "metadata": {
    "collapsed": true
   },
   "outputs": [],
   "source": [
    "mymodel.save('../data/model_save/inception_model.h5')"
   ]
  },
  {
   "cell_type": "code",
   "execution_count": 16,
   "metadata": {
    "collapsed": true
   },
   "outputs": [],
   "source": [
    "classes = [\n",
    "    'anhui', \n",
    "    'heilongjiang', \n",
    "    'ningxia', \n",
    "    'hubei', \n",
    "    'henan', \n",
    "    'hubei', \n",
    "    'zhejiang', \n",
    "    'jiangsu', \n",
    "    'chongqing', \n",
    "    'jiangxi',\n",
    "    'liaoning',\n",
    "    'fujian',\n",
    "    'neimenggu',\n",
    "    'qinghai',\n",
    "    'shandong',\n",
    "    'shanxi',\n",
    "    'shanxi0',\n",
    "    'tianjin',\n",
    "    'sichuan',\n",
    "    'xinjiang',\n",
    "    'yunnan',\n",
    "    'bejing',\n",
    "    'gansu',\n",
    "    'shanghai',\n",
    "    'guangdong',\n",
    "    'guangxi',\n",
    "    'hainan',\n",
    "    'guizhou',\n",
    "    'hebei',\n",
    "    'jilin']"
   ]
  },
  {
   "cell_type": "code",
   "execution_count": 18,
   "metadata": {
    "collapsed": false
   },
   "outputs": [
    {
     "name": "stdout",
     "output_type": "stream",
     "text": [
      "Found 15 images belonging to 1 classes.\n"
     ]
    }
   ],
   "source": [
    "test_image = ImageDataGenerator(rescale=1./255)\n",
    "\n",
    "test_generator = val_image.flow_from_directory('../data/test', target_size=(299, 299), \n",
    "                                              batch_size=32, class_mode=None)"
   ]
  },
  {
   "cell_type": "code",
   "execution_count": 39,
   "metadata": {
    "collapsed": true
   },
   "outputs": [],
   "source": [
    "import numpy as np\n",
    "import matplotlib.pyplot as plt\n",
    "%matplotlib inline"
   ]
  },
  {
   "cell_type": "code",
   "execution_count": 48,
   "metadata": {
    "collapsed": true
   },
   "outputs": [],
   "source": [
    "img, _ = iter(train_generator).next()"
   ]
  },
  {
   "cell_type": "code",
   "execution_count": 49,
   "metadata": {
    "collapsed": false,
    "scrolled": false
   },
   "outputs": [
    {
     "data": {
      "image/png": "[encoded data removed]",
      "text/plain": [
       "<matplotlib.figure.Figure at 0x7fd4a0f6aa58>"
      ]
     },
     "metadata": {},
     "output_type": "display_data"
    },
    {
     "name": "stdout",
     "output_type": "stream",
     "text": [
      "hubei\n"
     ]
    },
    {
     "data": {
      "image/png": "[encoded data removed]",
      "text/plain": [
       "<matplotlib.figure.Figure at 0x7fd4a0ebcb70>"
      ]
     },
     "metadata": {},
     "output_type": "display_data"
    },
    {
     "name": "stdout",
     "output_type": "stream",
     "text": [
      "shandong\n"
     ]
    },
    {
     "data": {
      "image/png": "[encoded data removed]",
      "text/plain": [
       "<matplotlib.figure.Figure at 0x7fd4a0ea0f60>"
      ]
     },
     "metadata": {},
     "output_type": "display_data"
    },
    {
     "name": "stdout",
     "output_type": "stream",
     "text": [
      "sichuan\n"
     ]
    },
    {
     "data": {
      "image/png": "[encoded data removed]",
      "text/plain": [
       "<matplotlib.figure.Figure at 0x7fd4a0e09dd8>"
      ]
     },
     "metadata": {},
     "output_type": "display_data"
    },
    {
     "name": "stdout",
     "output_type": "stream",
     "text": [
      "zhejiang\n"
     ]
    },
    {
     "data": {
      "image/png": "[encoded data removed]",
      "text/plain": [
       "<matplotlib.figure.Figure at 0x7fd4a0d6aa58>"
      ]
     },
     "metadata": {},
     "output_type": "display_data"
    },
    {
     "name": "stdout",
     "output_type": "stream",
     "text": [
      "chongqing\n"
     ]
    },
    {
     "data": {
      "image/png": "[encoded data removed]",
      "text/plain": [
       "<matplotlib.figure.Figure at 0x7fd4a0d56cf8>"
      ]
     },
     "metadata": {},
     "output_type": "display_data"
    },
    {
     "name": "stdout",
     "output_type": "stream",
     "text": [
      "tianjin\n"
     ]
    },
    {
     "data": {
      "image/png": "[encoded data removed]",
      "text/plain": [
       "<matplotlib.figure.Figure at 0x7fd4a0ccbe48>"
      ]
     },
     "metadata": {},
     "output_type": "display_data"
    },
    {
     "name": "stdout",
     "output_type": "stream",
     "text": [
      "hubei\n"
     ]
    },
    {
     "data": {
      "image/png": "[encoded data removed]",
      "text/plain": [
       "<matplotlib.figure.Figure at 0x7fd4a0d889e8>"
      ]
     },
     "metadata": {},
     "output_type": "display_data"
    },
    {
     "name": "stdout",
     "output_type": "stream",
     "text": [
      "shandong\n"
     ]
    },
    {
     "data": {
      "image/png": "[encoded data removed]",
      "text/plain": [
       "<matplotlib.figure.Figure at 0x7fd4a0d73390>"
      ]
     },
     "metadata": {},
     "output_type": "display_data"
    },
    {
     "name": "stdout",
     "output_type": "stream",
     "text": [
      "qinghai\n"
     ]
    },
    {
     "data": {
      "image/png": "[encoded data removed]",
      "text/plain": [
       "<matplotlib.figure.Figure at 0x7fd4a0b8be48>"
      ]
     },
     "metadata": {},
     "output_type": "display_data"
    },
    {
     "name": "stdout",
     "output_type": "stream",
     "text": [
      "chongqing\n"
     ]
    },
    {
     "data": {
      "image/png": "[encoded data removed]",
      "text/plain": [
       "<matplotlib.figure.Figure at 0x7fd4a0c1d4a8>"
      ]
     },
     "metadata": {},
     "output_type": "display_data"
    },
    {
     "name": "stdout",
     "output_type": "stream",
     "text": [
      "liaoning\n"
     ]
    },
    {
     "data": {
      "image/png": "[encoded data removed]",
      "text/plain": [
       "<matplotlib.figure.Figure at 0x7fd4a0aded68>"
      ]
     },
     "metadata": {},
     "output_type": "display_data"
    },
    {
     "name": "stdout",
     "output_type": "stream",
     "text": [
      "chongqing\n"
     ]
    },
    {
     "data": {
      "image/png": "[encoded data removed]",
      "text/plain": [
       "<matplotlib.figure.Figure at 0x7fd4a0a4be80>"
      ]
     },
     "metadata": {},
     "output_type": "display_data"
    },
    {
     "name": "stdout",
     "output_type": "stream",
     "text": [
      "heilongjiang\n"
     ]
    },
    {
     "data": {
      "image/png": "[encoded data removed]",
      "text/plain": [
       "<matplotlib.figure.Figure at 0x7fd4a0ab72e8>"
      ]
     },
     "metadata": {},
     "output_type": "display_data"
    },
    {
     "name": "stdout",
     "output_type": "stream",
     "text": [
      "liaoning\n"
     ]
    },
    {
     "data": {
      "image/png": "[encoded data removed]",
      "text/plain": [
       "<matplotlib.figure.Figure at 0x7fd4a0992b00>"
      ]
     },
     "metadata": {},
     "output_type": "display_data"
    },
    {
     "name": "stdout",
     "output_type": "stream",
     "text": [
      "tianjin\n"
     ]
    }
   ],
   "source": [
    "for i in range(15):\n",
    "    plt.imshow(img[i])\n",
    "    plt.show()\n",
    "    pred = mymodel.predict(img[i:i+1])\n",
    "    label = np.argmax(pred, 1)\n",
    "    print(classes[label[0]])"
   ]
  },
  {
   "cell_type": "code",
   "execution_count": 1,
   "metadata": {
    "collapsed": false
   },
   "outputs": [
    {
     "name": "stderr",
     "output_type": "stream",
     "text": [
      "Using TensorFlow backend.\n"
     ]
    }
   ],
   "source": [
    "# import keras\n",
    "\n",
    "# from keras.layers import Activation, MaxPooling2D, Conv2D, Dense, Input, Dropout\n",
    "# from keras.layers import Flatten, BatchNormalization, AveragePooling2D\n",
    "# from keras.models import Model\n",
    "# from keras import layers\n",
    "# from keras import optimizers\n",
    "\n",
    "# def conv2d_bn(x, filters, num_row, num_col, padding='same', strides=(1, 1)):\n",
    "#     x = Conv2D(filters, (num_row, num_col), strides=strides, padding=padding, use_bias=False)(x)\n",
    "#     x = BatchNormalization(axis=-1)(x)\n",
    "#     x = Activation('relu')(x)\n",
    "#     return x\n",
    "\n",
    "# def InceptionV3(img_input):\n",
    "#     x = conv2d_bn(img_input, 32, 3, 3, strides=(2, 2), padding='valid')\n",
    "#     x = conv2d_bn(x, 32, 3, 3, padding='valid')\n",
    "#     x = conv2d_bn(x, 64, 3, 3)\n",
    "#     x = MaxPooling2D((3, 3), strides=(2, 2))(x)\n",
    "\n",
    "#     x = conv2d_bn(x, 80, 1, 1, padding='valid')\n",
    "#     x = conv2d_bn(x, 192, 3, 3, padding='valid')\n",
    "#     x = MaxPooling2D((3, 3), strides=(2, 2))(x)\n",
    "\n",
    "#     # mixed 0, 1, 2: 35 x 35 x 256\n",
    "#     branch1x1 = conv2d_bn(x, 64, 1, 1)\n",
    "\n",
    "#     branch5x5 = conv2d_bn(x, 48, 1, 1)\n",
    "#     branch5x5 = conv2d_bn(branch5x5, 64, 5, 5)\n",
    "\n",
    "#     branch3x3dbl = conv2d_bn(x, 64, 1, 1)\n",
    "#     branch3x3dbl = conv2d_bn(branch3x3dbl, 96, 3, 3)\n",
    "#     branch3x3dbl = conv2d_bn(branch3x3dbl, 96, 3, 3)\n",
    "\n",
    "#     branch_pool = AveragePooling2D((3, 3), strides=(1, 1), padding='same')(x)\n",
    "#     branch_pool = conv2d_bn(branch_pool, 32, 1, 1)\n",
    "#     x = keras.layers.concatenate(\n",
    "#         [branch1x1, branch5x5, branch3x3dbl, branch_pool],\n",
    "#         axis=-1)\n",
    "\n",
    "#     # mixed 1: 35 x 35 x 256\n",
    "#     branch1x1 = conv2d_bn(x, 64, 1, 1)\n",
    "\n",
    "#     branch5x5 = conv2d_bn(x, 48, 1, 1)\n",
    "#     branch5x5 = conv2d_bn(branch5x5, 64, 5, 5)\n",
    "\n",
    "#     branch3x3dbl = conv2d_bn(x, 64, 1, 1)\n",
    "#     branch3x3dbl = conv2d_bn(branch3x3dbl, 96, 3, 3)\n",
    "#     branch3x3dbl = conv2d_bn(branch3x3dbl, 96, 3, 3)\n",
    "\n",
    "#     branch_pool = AveragePooling2D((3, 3), strides=(1, 1), padding='same')(x)\n",
    "#     branch_pool = conv2d_bn(branch_pool, 64, 1, 1)\n",
    "#     x = layers.concatenate(\n",
    "#         [branch1x1, branch5x5, branch3x3dbl, branch_pool],\n",
    "#         axis=-1)\n",
    "\n",
    "#     # mixed 2: 35 x 35 x 256\n",
    "#     branch1x1 = conv2d_bn(x, 64, 1, 1)\n",
    "\n",
    "#     branch5x5 = conv2d_bn(x, 48, 1, 1)\n",
    "#     branch5x5 = conv2d_bn(branch5x5, 64, 5, 5)\n",
    "\n",
    "#     branch3x3dbl = conv2d_bn(x, 64, 1, 1)\n",
    "#     branch3x3dbl = conv2d_bn(branch3x3dbl, 96, 3, 3)\n",
    "#     branch3x3dbl = conv2d_bn(branch3x3dbl, 96, 3, 3)\n",
    "\n",
    "#     branch_pool = AveragePooling2D((3, 3), strides=(1, 1), padding='same')(x)\n",
    "#     branch_pool = conv2d_bn(branch_pool, 64, 1, 1)\n",
    "#     x = layers.concatenate(\n",
    "#         [branch1x1, branch5x5, branch3x3dbl, branch_pool],\n",
    "#         axis=-1)\n",
    "\n",
    "#     # mixed 3: 17 x 17 x 768\n",
    "#     branch3x3 = conv2d_bn(x, 384, 3, 3, strides=(2, 2), padding='valid')\n",
    "\n",
    "#     branch3x3dbl = conv2d_bn(x, 64, 1, 1)\n",
    "#     branch3x3dbl = conv2d_bn(branch3x3dbl, 96, 3, 3)\n",
    "#     branch3x3dbl = conv2d_bn(\n",
    "#         branch3x3dbl, 96, 3, 3, strides=(2, 2), padding='valid')\n",
    "\n",
    "#     branch_pool = MaxPooling2D((3, 3), strides=(2, 2))(x)\n",
    "#     x = layers.concatenate(\n",
    "#         [branch3x3, branch3x3dbl, branch_pool], axis=-1)\n",
    "\n",
    "#     # mixed 4: 17 x 17 x 768\n",
    "#     branch1x1 = conv2d_bn(x, 192, 1, 1)\n",
    "\n",
    "#     branch7x7 = conv2d_bn(x, 128, 1, 1)\n",
    "#     branch7x7 = conv2d_bn(branch7x7, 128, 1, 7)\n",
    "#     branch7x7 = conv2d_bn(branch7x7, 192, 7, 1)\n",
    "\n",
    "#     branch7x7dbl = conv2d_bn(x, 128, 1, 1)\n",
    "#     branch7x7dbl = conv2d_bn(branch7x7dbl, 128, 7, 1)\n",
    "#     branch7x7dbl = conv2d_bn(branch7x7dbl, 128, 1, 7)\n",
    "#     branch7x7dbl = conv2d_bn(branch7x7dbl, 128, 7, 1)\n",
    "#     branch7x7dbl = conv2d_bn(branch7x7dbl, 192, 1, 7)\n",
    "\n",
    "#     branch_pool = AveragePooling2D((3, 3), strides=(1, 1), padding='same')(x)\n",
    "#     branch_pool = conv2d_bn(branch_pool, 192, 1, 1)\n",
    "#     x = layers.concatenate(\n",
    "#         [branch1x1, branch7x7, branch7x7dbl, branch_pool],\n",
    "#         axis=-1)\n",
    "\n",
    "#     # mixed 5, 6: 17 x 17 x 768\n",
    "#     for i in range(2):\n",
    "#         branch1x1 = conv2d_bn(x, 192, 1, 1)\n",
    "\n",
    "#         branch7x7 = conv2d_bn(x, 160, 1, 1)\n",
    "#         branch7x7 = conv2d_bn(branch7x7, 160, 1, 7)\n",
    "#         branch7x7 = conv2d_bn(branch7x7, 192, 7, 1)\n",
    "\n",
    "#         branch7x7dbl = conv2d_bn(x, 160, 1, 1)\n",
    "#         branch7x7dbl = conv2d_bn(branch7x7dbl, 160, 7, 1)\n",
    "#         branch7x7dbl = conv2d_bn(branch7x7dbl, 160, 1, 7)\n",
    "#         branch7x7dbl = conv2d_bn(branch7x7dbl, 160, 7, 1)\n",
    "#         branch7x7dbl = conv2d_bn(branch7x7dbl, 192, 1, 7)\n",
    "\n",
    "#         branch_pool = AveragePooling2D(\n",
    "#             (3, 3), strides=(1, 1), padding='same')(x)\n",
    "#         branch_pool = conv2d_bn(branch_pool, 192, 1, 1)\n",
    "#         x = layers.concatenate(\n",
    "#             [branch1x1, branch7x7, branch7x7dbl, branch_pool],\n",
    "#             axis=-1)\n",
    "\n",
    "#     # mixed 7: 17 x 17 x 768\n",
    "#     branch1x1 = conv2d_bn(x, 192, 1, 1)\n",
    "\n",
    "#     branch7x7 = conv2d_bn(x, 192, 1, 1)\n",
    "#     branch7x7 = conv2d_bn(branch7x7, 192, 1, 7)\n",
    "#     branch7x7 = conv2d_bn(branch7x7, 192, 7, 1)\n",
    "\n",
    "#     branch7x7dbl = conv2d_bn(x, 192, 1, 1)\n",
    "#     branch7x7dbl = conv2d_bn(branch7x7dbl, 192, 7, 1)\n",
    "#     branch7x7dbl = conv2d_bn(branch7x7dbl, 192, 1, 7)\n",
    "#     branch7x7dbl = conv2d_bn(branch7x7dbl, 192, 7, 1)\n",
    "#     branch7x7dbl = conv2d_bn(branch7x7dbl, 192, 1, 7)\n",
    "\n",
    "#     branch_pool = AveragePooling2D((3, 3), strides=(1, 1), padding='same')(x)\n",
    "#     branch_pool = conv2d_bn(branch_pool, 192, 1, 1)\n",
    "#     x = layers.concatenate(\n",
    "#         [branch1x1, branch7x7, branch7x7dbl, branch_pool],\n",
    "#         axis=-1)\n",
    "\n",
    "#     # mixed 8: 8 x 8 x 1280\n",
    "#     branch3x3 = conv2d_bn(x, 192, 1, 1)\n",
    "#     branch3x3 = conv2d_bn(branch3x3, 320, 3, 3,\n",
    "#                           strides=(2, 2), padding='valid')\n",
    "\n",
    "#     branch7x7x3 = conv2d_bn(x, 192, 1, 1)\n",
    "#     branch7x7x3 = conv2d_bn(branch7x7x3, 192, 1, 7)\n",
    "#     branch7x7x3 = conv2d_bn(branch7x7x3, 192, 7, 1)\n",
    "#     branch7x7x3 = conv2d_bn(\n",
    "#         branch7x7x3, 192, 3, 3, strides=(2, 2), padding='valid')\n",
    "\n",
    "#     branch_pool = MaxPooling2D((3, 3), strides=(2, 2))(x)\n",
    "#     x = layers.concatenate(\n",
    "#         [branch3x3, branch7x7x3, branch_pool], axis=-1)\n",
    "\n",
    "#     # mixed 9: 8 x 8 x 2048\n",
    "#     for i in range(2):\n",
    "#         branch1x1 = conv2d_bn(x, 320, 1, 1)\n",
    "\n",
    "#         branch3x3 = conv2d_bn(x, 384, 1, 1)\n",
    "#         branch3x3_1 = conv2d_bn(branch3x3, 384, 1, 3)\n",
    "#         branch3x3_2 = conv2d_bn(branch3x3, 384, 3, 1)\n",
    "#         branch3x3 = layers.concatenate(\n",
    "#             [branch3x3_1, branch3x3_2], axis=-1)\n",
    "\n",
    "#         branch3x3dbl = conv2d_bn(x, 448, 1, 1)\n",
    "#         branch3x3dbl = conv2d_bn(branch3x3dbl, 384, 3, 3)\n",
    "#         branch3x3dbl_1 = conv2d_bn(branch3x3dbl, 384, 1, 3)\n",
    "#         branch3x3dbl_2 = conv2d_bn(branch3x3dbl, 384, 3, 1)\n",
    "#         branch3x3dbl = layers.concatenate(\n",
    "#             [branch3x3dbl_1, branch3x3dbl_2], axis=-1)\n",
    "\n",
    "#         branch_pool = AveragePooling2D(\n",
    "#             (3, 3), strides=(1, 1), padding='same')(x)\n",
    "#         branch_pool = conv2d_bn(branch_pool, 192, 1, 1)\n",
    "#         x = layers.concatenate(\n",
    "#             [branch1x1, branch3x3, branch3x3dbl, branch_pool],\n",
    "#             axis=-1)\n",
    "#     x = AveragePooling2D(5, 1, 'valid')(x)\n",
    "#     x = Flatten()(x)\n",
    "#     x = Dense(6, activation='sigmoid')(x)\n",
    "#     model = Model(inputs=img_input, outputs=x)\n",
    "#     return model\n",
    "\n",
    "# input_tensor = Input(shape=(224, 224, 3))\n",
    "# inception_model = InceptionV3(input_tensor)\n",
    "\n",
    "# # from keras.utils.vis_utils import model_to_dot\n",
    "\n",
    "# # mymodel = model_to_dot(inception_model, show_shapes=True)\n",
    "\n",
    "# # mymodel.write_png('./model.png')\n",
    "\n",
    "# # sgd = optimizers.SGD(lr=0.001, decay=1e-6, momentum=0.9, nesterov=True)\n",
    "# # inception_model.compile(optimizer='adadelta', loss='categorical_crossentropy', metrics=['accuracy'])\n",
    "\n",
    "# # batch_size = 32\n",
    "\n",
    "# # from keras.preprocessing.image import ImageDataGenerator\n",
    "\n",
    "# # train_image = ImageDataGenerator(rescale=1./255)\n",
    "\n",
    "# # train_generator = train_image.flow_from_directory('../data/train/province', target_size=(224, 224),\n",
    "# #                                                  batch_size=batch_size,\n",
    "# #                                                  class_mode='categorical'\n",
    "# #                                                  )\n",
    "\n",
    "# # inception_model.fit_generator(train_generator, steps_per_epoch=340//batch_size, epochs=20)"
   ]
  }
 ],
 "metadata": {
  "anaconda-cloud": {},
  "kernelspec": {
   "display_name": "Python [conda env:tensorflow]",
   "language": "python",
   "name": "conda-env-tensorflow-py"
  },
  "language_info": {
   "codemirror_mode": {
    "name": "ipython",
    "version": 3
   },
   "file_extension": ".py",
   "mimetype": "text/x-python",
   "name": "python",
   "nbconvert_exporter": "python",
   "pygments_lexer": "ipython3",
   "version": "3.5.3"
  }
 },
 "nbformat": 4,
 "nbformat_minor": 1
}
