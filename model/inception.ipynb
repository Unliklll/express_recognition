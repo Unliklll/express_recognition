{
 "cells": [
  {
   "cell_type": "markdown",
   "metadata": {},
   "source": [
    "这是一个inception net的简单测试，inception是我之前用keras写的，测试的数据是猫狗的二分类问题  \n",
    "数据来源 https://www.kaggle.com/c/dogs-vs-cats-redux-kernels-edition/data 可能需要vpn  \n",
    "里面有12500张狗和12500张猫，我选了了1000张狗和1000张猫作为测试，下面是测试代码"
   ]
  },
  {
   "cell_type": "code",
   "execution_count": 1,
   "metadata": {
    "collapsed": false
   },
   "outputs": [
    {
     "name": "stderr",
     "output_type": "stream",
     "text": [
      "Using TensorFlow backend.\n"
     ]
    }
   ],
   "source": [
    "# import keras\n",
    "\n",
    "# from keras.layers import Activation, MaxPooling2D, Conv2D, Dense, Input, Dropout\n",
    "# from keras.layers import Flatten, BatchNormalization, AveragePooling2D\n",
    "# from keras.models import Model\n",
    "# from keras import layers\n",
    "# from keras import optimizers\n",
    "\n",
    "# def conv2d_bn(x, filters, num_row, num_col, padding='same', strides=(1, 1)):\n",
    "#     x = Conv2D(filters, (num_row, num_col), strides=strides, padding=padding, use_bias=False)(x)\n",
    "#     x = BatchNormalization(axis=-1)(x)\n",
    "#     x = Activation('relu')(x)\n",
    "#     return x\n",
    "\n",
    "# def InceptionV3(img_input):\n",
    "#     x = conv2d_bn(img_input, 32, 3, 3, strides=(2, 2), padding='valid')\n",
    "#     x = conv2d_bn(x, 32, 3, 3, padding='valid')\n",
    "#     x = conv2d_bn(x, 64, 3, 3)\n",
    "#     x = MaxPooling2D((3, 3), strides=(2, 2))(x)\n",
    "\n",
    "#     x = conv2d_bn(x, 80, 1, 1, padding='valid')\n",
    "#     x = conv2d_bn(x, 192, 3, 3, padding='valid')\n",
    "#     x = MaxPooling2D((3, 3), strides=(2, 2))(x)\n",
    "\n",
    "#     # mixed 0, 1, 2: 35 x 35 x 256\n",
    "#     branch1x1 = conv2d_bn(x, 64, 1, 1)\n",
    "\n",
    "#     branch5x5 = conv2d_bn(x, 48, 1, 1)\n",
    "#     branch5x5 = conv2d_bn(branch5x5, 64, 5, 5)\n",
    "\n",
    "#     branch3x3dbl = conv2d_bn(x, 64, 1, 1)\n",
    "#     branch3x3dbl = conv2d_bn(branch3x3dbl, 96, 3, 3)\n",
    "#     branch3x3dbl = conv2d_bn(branch3x3dbl, 96, 3, 3)\n",
    "\n",
    "#     branch_pool = AveragePooling2D((3, 3), strides=(1, 1), padding='same')(x)\n",
    "#     branch_pool = conv2d_bn(branch_pool, 32, 1, 1)\n",
    "#     x = keras.layers.concatenate(\n",
    "#         [branch1x1, branch5x5, branch3x3dbl, branch_pool],\n",
    "#         axis=-1)\n",
    "\n",
    "#     # mixed 1: 35 x 35 x 256\n",
    "#     branch1x1 = conv2d_bn(x, 64, 1, 1)\n",
    "\n",
    "#     branch5x5 = conv2d_bn(x, 48, 1, 1)\n",
    "#     branch5x5 = conv2d_bn(branch5x5, 64, 5, 5)\n",
    "\n",
    "#     branch3x3dbl = conv2d_bn(x, 64, 1, 1)\n",
    "#     branch3x3dbl = conv2d_bn(branch3x3dbl, 96, 3, 3)\n",
    "#     branch3x3dbl = conv2d_bn(branch3x3dbl, 96, 3, 3)\n",
    "\n",
    "#     branch_pool = AveragePooling2D((3, 3), strides=(1, 1), padding='same')(x)\n",
    "#     branch_pool = conv2d_bn(branch_pool, 64, 1, 1)\n",
    "#     x = layers.concatenate(\n",
    "#         [branch1x1, branch5x5, branch3x3dbl, branch_pool],\n",
    "#         axis=-1)\n",
    "\n",
    "#     # mixed 2: 35 x 35 x 256\n",
    "#     branch1x1 = conv2d_bn(x, 64, 1, 1)\n",
    "\n",
    "#     branch5x5 = conv2d_bn(x, 48, 1, 1)\n",
    "#     branch5x5 = conv2d_bn(branch5x5, 64, 5, 5)\n",
    "\n",
    "#     branch3x3dbl = conv2d_bn(x, 64, 1, 1)\n",
    "#     branch3x3dbl = conv2d_bn(branch3x3dbl, 96, 3, 3)\n",
    "#     branch3x3dbl = conv2d_bn(branch3x3dbl, 96, 3, 3)\n",
    "\n",
    "#     branch_pool = AveragePooling2D((3, 3), strides=(1, 1), padding='same')(x)\n",
    "#     branch_pool = conv2d_bn(branch_pool, 64, 1, 1)\n",
    "#     x = layers.concatenate(\n",
    "#         [branch1x1, branch5x5, branch3x3dbl, branch_pool],\n",
    "#         axis=-1)\n",
    "\n",
    "#     # mixed 3: 17 x 17 x 768\n",
    "#     branch3x3 = conv2d_bn(x, 384, 3, 3, strides=(2, 2), padding='valid')\n",
    "\n",
    "#     branch3x3dbl = conv2d_bn(x, 64, 1, 1)\n",
    "#     branch3x3dbl = conv2d_bn(branch3x3dbl, 96, 3, 3)\n",
    "#     branch3x3dbl = conv2d_bn(\n",
    "#         branch3x3dbl, 96, 3, 3, strides=(2, 2), padding='valid')\n",
    "\n",
    "#     branch_pool = MaxPooling2D((3, 3), strides=(2, 2))(x)\n",
    "#     x = layers.concatenate(\n",
    "#         [branch3x3, branch3x3dbl, branch_pool], axis=-1)\n",
    "\n",
    "#     # mixed 4: 17 x 17 x 768\n",
    "#     branch1x1 = conv2d_bn(x, 192, 1, 1)\n",
    "\n",
    "#     branch7x7 = conv2d_bn(x, 128, 1, 1)\n",
    "#     branch7x7 = conv2d_bn(branch7x7, 128, 1, 7)\n",
    "#     branch7x7 = conv2d_bn(branch7x7, 192, 7, 1)\n",
    "\n",
    "#     branch7x7dbl = conv2d_bn(x, 128, 1, 1)\n",
    "#     branch7x7dbl = conv2d_bn(branch7x7dbl, 128, 7, 1)\n",
    "#     branch7x7dbl = conv2d_bn(branch7x7dbl, 128, 1, 7)\n",
    "#     branch7x7dbl = conv2d_bn(branch7x7dbl, 128, 7, 1)\n",
    "#     branch7x7dbl = conv2d_bn(branch7x7dbl, 192, 1, 7)\n",
    "\n",
    "#     branch_pool = AveragePooling2D((3, 3), strides=(1, 1), padding='same')(x)\n",
    "#     branch_pool = conv2d_bn(branch_pool, 192, 1, 1)\n",
    "#     x = layers.concatenate(\n",
    "#         [branch1x1, branch7x7, branch7x7dbl, branch_pool],\n",
    "#         axis=-1)\n",
    "\n",
    "#     # mixed 5, 6: 17 x 17 x 768\n",
    "#     for i in range(2):\n",
    "#         branch1x1 = conv2d_bn(x, 192, 1, 1)\n",
    "\n",
    "#         branch7x7 = conv2d_bn(x, 160, 1, 1)\n",
    "#         branch7x7 = conv2d_bn(branch7x7, 160, 1, 7)\n",
    "#         branch7x7 = conv2d_bn(branch7x7, 192, 7, 1)\n",
    "\n",
    "#         branch7x7dbl = conv2d_bn(x, 160, 1, 1)\n",
    "#         branch7x7dbl = conv2d_bn(branch7x7dbl, 160, 7, 1)\n",
    "#         branch7x7dbl = conv2d_bn(branch7x7dbl, 160, 1, 7)\n",
    "#         branch7x7dbl = conv2d_bn(branch7x7dbl, 160, 7, 1)\n",
    "#         branch7x7dbl = conv2d_bn(branch7x7dbl, 192, 1, 7)\n",
    "\n",
    "#         branch_pool = AveragePooling2D(\n",
    "#             (3, 3), strides=(1, 1), padding='same')(x)\n",
    "#         branch_pool = conv2d_bn(branch_pool, 192, 1, 1)\n",
    "#         x = layers.concatenate(\n",
    "#             [branch1x1, branch7x7, branch7x7dbl, branch_pool],\n",
    "#             axis=-1)\n",
    "\n",
    "#     # mixed 7: 17 x 17 x 768\n",
    "#     branch1x1 = conv2d_bn(x, 192, 1, 1)\n",
    "\n",
    "#     branch7x7 = conv2d_bn(x, 192, 1, 1)\n",
    "#     branch7x7 = conv2d_bn(branch7x7, 192, 1, 7)\n",
    "#     branch7x7 = conv2d_bn(branch7x7, 192, 7, 1)\n",
    "\n",
    "#     branch7x7dbl = conv2d_bn(x, 192, 1, 1)\n",
    "#     branch7x7dbl = conv2d_bn(branch7x7dbl, 192, 7, 1)\n",
    "#     branch7x7dbl = conv2d_bn(branch7x7dbl, 192, 1, 7)\n",
    "#     branch7x7dbl = conv2d_bn(branch7x7dbl, 192, 7, 1)\n",
    "#     branch7x7dbl = conv2d_bn(branch7x7dbl, 192, 1, 7)\n",
    "\n",
    "#     branch_pool = AveragePooling2D((3, 3), strides=(1, 1), padding='same')(x)\n",
    "#     branch_pool = conv2d_bn(branch_pool, 192, 1, 1)\n",
    "#     x = layers.concatenate(\n",
    "#         [branch1x1, branch7x7, branch7x7dbl, branch_pool],\n",
    "#         axis=-1)\n",
    "\n",
    "#     # mixed 8: 8 x 8 x 1280\n",
    "#     branch3x3 = conv2d_bn(x, 192, 1, 1)\n",
    "#     branch3x3 = conv2d_bn(branch3x3, 320, 3, 3,\n",
    "#                           strides=(2, 2), padding='valid')\n",
    "\n",
    "#     branch7x7x3 = conv2d_bn(x, 192, 1, 1)\n",
    "#     branch7x7x3 = conv2d_bn(branch7x7x3, 192, 1, 7)\n",
    "#     branch7x7x3 = conv2d_bn(branch7x7x3, 192, 7, 1)\n",
    "#     branch7x7x3 = conv2d_bn(\n",
    "#         branch7x7x3, 192, 3, 3, strides=(2, 2), padding='valid')\n",
    "\n",
    "#     branch_pool = MaxPooling2D((3, 3), strides=(2, 2))(x)\n",
    "#     x = layers.concatenate(\n",
    "#         [branch3x3, branch7x7x3, branch_pool], axis=-1)\n",
    "\n",
    "#     # mixed 9: 8 x 8 x 2048\n",
    "#     for i in range(2):\n",
    "#         branch1x1 = conv2d_bn(x, 320, 1, 1)\n",
    "\n",
    "#         branch3x3 = conv2d_bn(x, 384, 1, 1)\n",
    "#         branch3x3_1 = conv2d_bn(branch3x3, 384, 1, 3)\n",
    "#         branch3x3_2 = conv2d_bn(branch3x3, 384, 3, 1)\n",
    "#         branch3x3 = layers.concatenate(\n",
    "#             [branch3x3_1, branch3x3_2], axis=-1)\n",
    "\n",
    "#         branch3x3dbl = conv2d_bn(x, 448, 1, 1)\n",
    "#         branch3x3dbl = conv2d_bn(branch3x3dbl, 384, 3, 3)\n",
    "#         branch3x3dbl_1 = conv2d_bn(branch3x3dbl, 384, 1, 3)\n",
    "#         branch3x3dbl_2 = conv2d_bn(branch3x3dbl, 384, 3, 1)\n",
    "#         branch3x3dbl = layers.concatenate(\n",
    "#             [branch3x3dbl_1, branch3x3dbl_2], axis=-1)\n",
    "\n",
    "#         branch_pool = AveragePooling2D(\n",
    "#             (3, 3), strides=(1, 1), padding='same')(x)\n",
    "#         branch_pool = conv2d_bn(branch_pool, 192, 1, 1)\n",
    "#         x = layers.concatenate(\n",
    "#             [branch1x1, branch3x3, branch3x3dbl, branch_pool],\n",
    "#             axis=-1)\n",
    "#     x = AveragePooling2D(5, 1, 'valid')(x)\n",
    "#     x = Flatten()(x)\n",
    "#     x = Dense(6, activation='sigmoid')(x)\n",
    "#     model = Model(inputs=img_input, outputs=x)\n",
    "#     return model\n",
    "\n",
    "# input_tensor = Input(shape=(224, 224, 3))\n",
    "# inception_model = InceptionV3(input_tensor)\n",
    "\n",
    "# # from keras.utils.vis_utils import model_to_dot\n",
    "\n",
    "# # mymodel = model_to_dot(inception_model, show_shapes=True)\n",
    "\n",
    "# # mymodel.write_png('./model.png')\n",
    "\n",
    "# # sgd = optimizers.SGD(lr=0.001, decay=1e-6, momentum=0.9, nesterov=True)\n",
    "# # inception_model.compile(optimizer='adadelta', loss='categorical_crossentropy', metrics=['accuracy'])\n",
    "\n",
    "# # batch_size = 32\n",
    "\n",
    "# # from keras.preprocessing.image import ImageDataGenerator\n",
    "\n",
    "# # train_image = ImageDataGenerator(rescale=1./255)\n",
    "\n",
    "# # train_generator = train_image.flow_from_directory('../data/train/province', target_size=(224, 224),\n",
    "# #                                                  batch_size=batch_size,\n",
    "# #                                                  class_mode='categorical'\n",
    "# #                                                  )\n",
    "\n",
    "# # inception_model.fit_generator(train_generator, steps_per_epoch=340//batch_size, epochs=20)"
   ]
  },
  {
   "cell_type": "code",
   "execution_count": 1,
   "metadata": {
    "collapsed": false
   },
   "outputs": [
    {
     "name": "stderr",
     "output_type": "stream",
     "text": [
      "Using TensorFlow backend.\n"
     ]
    }
   ],
   "source": [
    "import keras\n",
    "\n",
    "from keras.layers import Activation, MaxPooling2D, Conv2D, Dense, Input, Dropout\n",
    "from keras.layers import Flatten, BatchNormalization, AveragePooling2D\n",
    "from keras.models import Model\n",
    "from keras import layers\n",
    "from keras import optimizers"
   ]
  },
  {
   "cell_type": "code",
   "execution_count": 2,
   "metadata": {
    "collapsed": false
   },
   "outputs": [],
   "source": [
    "mymodel = keras.applications.InceptionV3(include_top=True, input_shape=(299, 299, 3), weights=None, classes=6)"
   ]
  },
  {
   "cell_type": "code",
   "execution_count": 3,
   "metadata": {
    "collapsed": false
   },
   "outputs": [],
   "source": [
    "# mymodel.summary()"
   ]
  },
  {
   "cell_type": "code",
   "execution_count": 14,
   "metadata": {
    "collapsed": false
   },
   "outputs": [
    {
     "name": "stdout",
     "output_type": "stream",
     "text": [
      "Found 300 images belonging to 6 classes.\n",
      "Epoch 1/20\n",
      "21/21 [==============================] - 21s - loss: 7.2252e-04 - acc: 1.0000    \n",
      "Epoch 2/20\n",
      "21/21 [==============================] - 17s - loss: 0.0247 - acc: 0.9940    \n",
      "Epoch 3/20\n",
      "21/21 [==============================] - 17s - loss: 0.0134 - acc: 0.9940    \n",
      "Epoch 4/20\n",
      "21/21 [==============================] - 17s - loss: 0.1991 - acc: 0.9425    \n",
      "Epoch 5/20\n",
      "21/21 [==============================] - 17s - loss: 0.0660 - acc: 0.9732    \n",
      "Epoch 6/20\n",
      "21/21 [==============================] - 17s - loss: 0.0050 - acc: 0.9970    \n",
      "Epoch 7/20\n",
      "21/21 [==============================] - 17s - loss: 4.5573e-04 - acc: 1.0000    \n",
      "Epoch 8/20\n",
      "21/21 [==============================] - 17s - loss: 8.1867e-04 - acc: 1.0000    \n",
      "Epoch 9/20\n",
      "21/21 [==============================] - 17s - loss: 4.9362e-04 - acc: 1.0000    \n",
      "Epoch 10/20\n",
      "21/21 [==============================] - 17s - loss: 4.7447e-04 - acc: 1.0000    \n",
      "Epoch 11/20\n",
      "21/21 [==============================] - 17s - loss: 0.0018 - acc: 1.0000    \n",
      "Epoch 12/20\n",
      "21/21 [==============================] - 17s - loss: 4.1466e-04 - acc: 1.0000    \n",
      "Epoch 13/20\n",
      "21/21 [==============================] - 17s - loss: 2.7541e-04 - acc: 1.0000    \n",
      "Epoch 14/20\n",
      "21/21 [==============================] - 17s - loss: 0.0012 - acc: 1.0000    \n",
      "Epoch 15/20\n",
      "21/21 [==============================] - 17s - loss: 9.6527e-04 - acc: 1.0000    \n",
      "Epoch 16/20\n",
      "21/21 [==============================] - 17s - loss: 3.0858e-04 - acc: 1.0000    \n",
      "Epoch 17/20\n",
      "21/21 [==============================] - 17s - loss: 1.5865e-04 - acc: 1.0000    \n",
      "Epoch 18/20\n",
      "21/21 [==============================] - 17s - loss: 0.0046 - acc: 1.0000    \n",
      "Epoch 19/20\n",
      "21/21 [==============================] - 17s - loss: 4.6170e-04 - acc: 1.0000    \n",
      "Epoch 20/20\n",
      "21/21 [==============================] - 17s - loss: 1.9843e-04 - acc: 1.0000    \n"
     ]
    },
    {
     "data": {
      "text/plain": [
       "<keras.callbacks.History at 0x7f315364a518>"
      ]
     },
     "execution_count": 14,
     "metadata": {},
     "output_type": "execute_result"
    }
   ],
   "source": [
    "mymodel.compile(optimizer='adadelta', loss='categorical_crossentropy', metrics=['accuracy'])\n",
    "\n",
    "batch_size = 16\n",
    "\n",
    "from keras.preprocessing.image import ImageDataGenerator\n",
    "\n",
    "train_image = ImageDataGenerator(rescale=1./255)\n",
    "\n",
    "train_generator = train_image.flow_from_directory('../data/train/province', target_size=(299, 299),\n",
    "                                                 batch_size=batch_size,\n",
    "                                                 class_mode='categorical'\n",
    "                                                 )\n",
    "\n",
    "mymodel.fit_generator(train_generator, steps_per_epoch=340//batch_size, epochs=20)"
   ]
  },
  {
   "cell_type": "code",
   "execution_count": 5,
   "metadata": {
    "collapsed": false
   },
   "outputs": [
    {
     "name": "stdout",
     "output_type": "stream",
     "text": [
      "Found 4 images belonging to 6 classes.\n"
     ]
    }
   ],
   "source": [
    "val_image = ImageDataGenerator(rescale=1./255)\n",
    "\n",
    "val_generator = val_image.flow_from_directory('../data/val/province', target_size=(299, 299), \n",
    "                                              batch_size=32, class_mode=None)"
   ]
  },
  {
   "cell_type": "code",
   "execution_count": 6,
   "metadata": {
    "collapsed": true
   },
   "outputs": [],
   "source": [
    "import numpy as np"
   ]
  },
  {
   "cell_type": "code",
   "execution_count": 37,
   "metadata": {
    "collapsed": false
   },
   "outputs": [
    {
     "data": {
      "text/plain": [
       "'zhejiang'"
      ]
     },
     "execution_count": 37,
     "metadata": {},
     "output_type": "execute_result"
    },
    {
     "data": {
      "image/png": "[encoded data removed]",
      "text/plain": [
       "<matplotlib.figure.Figure at 0x7f3150ecf470>"
      ]
     },
     "metadata": {},
     "output_type": "display_data"
    }
   ],
   "source": [
    "img = iter(val_generator).next()\n",
    "\n",
    "import matplotlib.pyplot as plt\n",
    "%matplotlib inline\n",
    "\n",
    "plt.imshow(img[0])\n",
    "\n",
    "pred = np.argmax(mymodel.predict(img[0:1]), 1)\n",
    "classes = ['anhui', 'guangdong', 'jiangsu', 'shanghai', 'sichuan', 'zhejiang']\n",
    "classes[pred[0]]"
   ]
  },
  {
   "cell_type": "code",
   "execution_count": 38,
   "metadata": {
    "collapsed": false
   },
   "outputs": [
    {
     "data": {
      "text/plain": [
       "'anhui'"
      ]
     },
     "execution_count": 38,
     "metadata": {},
     "output_type": "execute_result"
    },
    {
     "data": {
      "image/png": "[encoded data removed]",
      "text/plain": [
       "<matplotlib.figure.Figure at 0x7f3150f6d7b8>"
      ]
     },
     "metadata": {},
     "output_type": "display_data"
    }
   ],
   "source": [
    "plt.imshow(img[1])\n",
    "\n",
    "pred = np.argmax(mymodel.predict(img[1:2]), 1)\n",
    "classes[pred[0]]"
   ]
  },
  {
   "cell_type": "code",
   "execution_count": 39,
   "metadata": {
    "collapsed": false
   },
   "outputs": [
    {
     "data": {
      "text/plain": [
       "'zhejiang'"
      ]
     },
     "execution_count": 39,
     "metadata": {},
     "output_type": "execute_result"
    },
    {
     "data": {
      "image/png": "[encoded data removed]",
      "text/plain": [
       "<matplotlib.figure.Figure at 0x7f3150e1f0f0>"
      ]
     },
     "metadata": {},
     "output_type": "display_data"
    }
   ],
   "source": [
    "plt.imshow(img[2])\n",
    "\n",
    "pred = np.argmax(mymodel.predict(img[2:3]), 1)\n",
    "classes[pred[0]]"
   ]
  },
  {
   "cell_type": "code",
   "execution_count": 40,
   "metadata": {
    "collapsed": false
   },
   "outputs": [
    {
     "data": {
      "text/plain": [
       "'guangdong'"
      ]
     },
     "execution_count": 40,
     "metadata": {},
     "output_type": "execute_result"
    },
    {
     "data": {
      "image/png": "[encoded data removed]",
      "text/plain": [
       "<matplotlib.figure.Figure at 0x7f3150d96358>"
      ]
     },
     "metadata": {},
     "output_type": "display_data"
    }
   ],
   "source": [
    "plt.imshow(img[3])\n",
    "\n",
    "pred = np.argmax(mymodel.predict(img[3:4]), 1)\n",
    "classes = ['anhui', 'guangdong', 'jiangsu', 'sichuan', 'zhejiang']\n",
    "classes[pred[0]]"
   ]
  },
  {
   "cell_type": "code",
   "execution_count": 15,
   "metadata": {
    "collapsed": false
   },
   "outputs": [
    {
     "name": "stdout",
     "output_type": "stream",
     "text": [
      "Found 300 images belonging to 6 classes.\n"
     ]
    },
    {
     "data": {
      "text/plain": [
       "[2.9264723707456142e-05, 1.0]"
      ]
     },
     "execution_count": 15,
     "metadata": {},
     "output_type": "execute_result"
    }
   ],
   "source": [
    "train_image = ImageDataGenerator(rescale=1./255)\n",
    "\n",
    "train_generator = train_image.flow_from_directory('../data/train/province', target_size=(299, 299),\n",
    "                                                 batch_size=batch_size,\n",
    "                                                 class_mode='categorical'\n",
    "                                                 )\n",
    "\n",
    "mymodel.evaluate_generator(train_generator, steps=1)"
   ]
  },
  {
   "cell_type": "code",
   "execution_count": null,
   "metadata": {
    "collapsed": true
   },
   "outputs": [],
   "source": []
  }
 ],
 "metadata": {
  "anaconda-cloud": {},
  "kernelspec": {
   "display_name": "Python [conda env:tensorflow]",
   "language": "python",
   "name": "conda-env-tensorflow-py"
  },
  "language_info": {
   "codemirror_mode": {
    "name": "ipython",
    "version": 3
   },
   "file_extension": ".py",
   "mimetype": "text/x-python",
   "name": "python",
   "nbconvert_exporter": "python",
   "pygments_lexer": "ipython3",
   "version": "3.5.3"
  }
 },
 "nbformat": 4,
 "nbformat_minor": 1
}
