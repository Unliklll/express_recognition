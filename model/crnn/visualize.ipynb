{
 "cells": [
  {
   "cell_type": "code",
   "execution_count": 1,
   "metadata": {
    "collapsed": false,
    "nbpresent": {
     "id": "0a8f9d41-437b-4118-aaf5-d32fb36f429f"
    }
   },
   "outputs": [],
   "source": [
    "import os\n",
    "from crnn import CRNN\n",
    "import torch\n",
    "import torchvision\n",
    "import dataset\n",
    "from torch.autograd import Variable\n",
    "import utils\n",
    "from PIL import Image\n",
    "import matplotlib.pyplot as plt\n",
    "%matplotlib inline"
   ]
  },
  {
   "cell_type": "code",
   "execution_count": 2,
   "metadata": {
    "collapsed": true,
    "nbpresent": {
     "id": "573132be-619a-4463-8667-b90f7a0270dc"
    }
   },
   "outputs": [],
   "source": [
    "nh = 100\n",
    "alphabet = '0123456789'\n",
    "nclass = len(alphabet) + 1\n",
    "nc = 1\n",
    "mynet = CRNN(32, nc, nclass, nh)"
   ]
  },
  {
   "cell_type": "code",
   "execution_count": 3,
   "metadata": {
    "collapsed": true,
    "nbpresent": {
     "id": "35d05ed1-02e7-47fc-906d-42996c6a481e"
    }
   },
   "outputs": [],
   "source": [
    "converter = utils.strLabelConverter(alphabet)"
   ]
  },
  {
   "cell_type": "code",
   "execution_count": 4,
   "metadata": {
    "collapsed": false,
    "nbpresent": {
     "id": "332413a8-c9b4-49e9-b4c4-24bd5d260780"
    }
   },
   "outputs": [],
   "source": [
    "mynet.load_state_dict(torch.load('./crnn_model.pth'))\n",
    "mynet = mynet.cuda()"
   ]
  },
  {
   "cell_type": "code",
   "execution_count": 5,
   "metadata": {
    "collapsed": true,
    "nbpresent": {
     "id": "d12f514e-11ca-4713-8fba-3f3eb262417d"
    }
   },
   "outputs": [],
   "source": [
    "def show_result(img_name):\n",
    "    root = '/home/sherlock/Documents/express_recognition/data/validation/telephone'\n",
    "    img_path = os.path.join(root, img_name)\n",
    "    transformer = dataset.resizeNormalize((128, 32))\n",
    "    image = Image.open(img_path).convert('L')\n",
    "    image = transformer(image).cuda()\n",
    "    image = image.view(1, *image.size())\n",
    "    image = Variable(image)\n",
    "    \n",
    "    mynet.eval()\n",
    "    preds = mynet(image)\n",
    "    _, preds = preds.max(2)\n",
    "    preds = preds.squeeze(2)\n",
    "    preds = preds.transpose(1, 0).contiguous().view(-1)\n",
    "    preds_size = Variable(torch.IntTensor([preds.size(0)]))\n",
    "    raw_pred = converter.decode(preds.data, preds_size.data, raw=True)\n",
    "    sim_pred = converter.decode(preds.data, preds_size.data, raw=False)\n",
    "    pic = Image.open(img_path)\n",
    "    plt.imshow(pic)\n",
    "    plt.show()\n",
    "    print('{} => {}'.format(raw_pred, sim_pred))"
   ]
  },
  {
   "cell_type": "code",
   "execution_count": 6,
   "metadata": {
    "collapsed": false
   },
   "outputs": [
    {
     "data": {
      "image/png": "[encoded data removed]",
      "text/plain": [
       "<matplotlib.figure.Figure at 0x7f06286f13c8>"
      ]
     },
     "metadata": {},
     "output_type": "display_data"
    },
    {
     "name": "stdout",
     "output_type": "stream",
     "text": [
      "1188--888777-22110001191122011972222228777777--------------------- => 188721019120197287\n"
     ]
    }
   ],
   "source": [
    "show_result('1_17.jpg')"
   ]
  },
  {
   "cell_type": "code",
   "execution_count": 8,
   "metadata": {
    "collapsed": false
   },
   "outputs": [],
   "source": [
    "root = '/home/sherlock/Documents/express_recognition/data/validation/telephone'\n",
    "img_path = os.path.join(root, '1_17.jpg')\n",
    "transformer = dataset.resizeNormalize((128, 32))\n",
    "image = Image.open(img_path).convert('L')\n",
    "image = transformer(image).cuda()\n",
    "image = image.view(1, *image.size())\n",
    "image = Variable(image)\n",
    "\n",
    "mynet.eval()\n",
    "preds = mynet(image)"
   ]
  },
  {
   "cell_type": "code",
   "execution_count": 11,
   "metadata": {
    "collapsed": false
   },
   "outputs": [
    {
     "data": {
      "text/plain": [
       "Variable containing:\n",
       "(0 ,.,.) = \n",
       "\n",
       "Columns 0 to 7 \n",
       "   -3.7365  -6.2006  20.0192  -3.8738  -0.3932   1.3956   1.7396 -10.5642\n",
       "\n",
       "Columns 8 to 10 \n",
       "    1.0865   2.6876   0.6165\n",
       "\n",
       "(1 ,.,.) = \n",
       "\n",
       "Columns 0 to 7 \n",
       "   -5.0595  -4.8987  17.8799  -5.7379   1.2568   1.1966   1.1782  -8.4437\n",
       "\n",
       "Columns 8 to 10 \n",
       "    1.0808   6.8604  -0.8282\n",
       "\n",
       "(2 ,.,.) = \n",
       "\n",
       "Columns 0 to 7 \n",
       "   -5.2023  -1.4265   4.4800  -5.7612   3.8497  -0.2786  -3.7168  -2.0380\n",
       "\n",
       "Columns 8 to 10 \n",
       "    1.6398  15.7860  -1.8065\n",
       "\n",
       "(3 ,.,.) = \n",
       "\n",
       "Columns 0 to 7 \n",
       "   -0.7421   2.6945  -6.0203   1.4282   5.7540  -2.8126  -2.2334   1.3653\n",
       "\n",
       "Columns 8 to 10 \n",
       "   -2.4425   8.3288  -5.3261\n",
       "\n",
       "(4 ,.,.) = \n",
       "\n",
       "Columns 0 to 7 \n",
       "    7.8646   3.3631 -11.2221   3.9026   0.1923   0.6738   1.9764   2.4252\n",
       "\n",
       "Columns 8 to 10 \n",
       "   -3.4999  -2.3788  -9.0323\n",
       "\n",
       "(5 ,.,.) = \n",
       "\n",
       "Columns 0 to 7 \n",
       "    8.5162  -0.5459  -5.8660  -4.7421  -4.5175   4.0051   2.7821   3.0980\n",
       "\n",
       "Columns 8 to 10 \n",
       "   -1.4673   2.8628  -8.8237\n",
       "\n",
       "(6 ,.,.) = \n",
       "\n",
       "Columns 0 to 7 \n",
       "    1.2647  -0.1657   0.9416  -8.3951  -3.3505  -0.0974  -1.7679  -0.3298\n",
       "\n",
       "Columns 8 to 10 \n",
       "    1.7458  15.5604  -3.8256\n",
       "\n",
       "(7 ,.,.) = \n",
       "\n",
       "Columns 0 to 7 \n",
       "   -2.2277  -0.2481   1.7806  -5.4210  -0.3797  -2.7328  -3.5420  -3.3132\n",
       "\n",
       "Columns 8 to 10 \n",
       "    2.8155  17.1207  -0.5453\n",
       "\n",
       "(8 ,.,.) = \n",
       "\n",
       "Columns 0 to 7 \n",
       "   -1.4207  -2.6466   7.0859   0.0743  -0.1673  -3.4438  -2.2118 -11.4924\n",
       "\n",
       "Columns 8 to 10 \n",
       "    6.9129   7.9529   0.7771\n",
       "\n",
       "(9 ,.,.) = \n",
       "\n",
       "Columns 0 to 7 \n",
       "    2.3357  -1.3795   3.5976   2.1434  -2.3913  -3.4249  -3.4128 -11.2356\n",
       "\n",
       "Columns 8 to 10 \n",
       "   12.6642   0.4230   0.1206\n",
       "\n",
       "(10,.,.) = \n",
       "\n",
       "Columns 0 to 7 \n",
       "    4.0732   2.5665  -2.0648   1.8873  -2.3264  -3.6762  -6.4245  -6.6388\n",
       "\n",
       "Columns 8 to 10 \n",
       "   14.1134  -2.2611  -0.4446\n",
       "\n",
       "(11,.,.) = \n",
       "\n",
       "Columns 0 to 7 \n",
       "    8.3832   4.3525  -7.6899   0.0301  -1.1056  -4.1229  -5.7748  -1.2040\n",
       "\n",
       "Columns 8 to 10 \n",
       "   10.3598  -3.1055  -5.1096\n",
       "\n",
       "(12,.,.) = \n",
       "\n",
       "Columns 0 to 7 \n",
       "   10.0126   5.7066  -9.9869   2.8661  -1.4315  -5.2914  -2.5752  -1.0531\n",
       "\n",
       "Columns 8 to 10 \n",
       "    6.0002  -4.8126  -6.7128\n",
       "\n",
       "(13,.,.) = \n",
       "\n",
       "Columns 0 to 7 \n",
       "    5.3538   3.9899  -7.1646  15.6807  -0.6638  -3.7359  -2.6989  -7.1843\n",
       "\n",
       "Columns 8 to 10 \n",
       "    0.6789  -8.3286  -1.8563\n",
       "\n",
       "(14,.,.) = \n",
       "\n",
       "Columns 0 to 7 \n",
       "    2.7178   4.9081  -3.8358  14.5694  -0.7271  -4.1219  -2.1661  -9.0968\n",
       "\n",
       "Columns 8 to 10 \n",
       "   -0.9160  -6.3622   1.1535\n",
       "\n",
       "(15,.,.) = \n",
       "\n",
       "Columns 0 to 7 \n",
       "   -2.9740   3.6062   9.0021   1.5369  -0.7046  -1.5851   1.0407 -11.8774\n",
       "\n",
       "Columns 8 to 10 \n",
       "   -1.2377   0.7445   4.0923\n",
       "\n",
       "(16,.,.) = \n",
       "\n",
       "Columns 0 to 7 \n",
       "   -2.9322   6.7338   7.9054  -5.1373  -2.4609  -1.6095   3.7889  -6.8841\n",
       "\n",
       "Columns 8 to 10 \n",
       "    0.0267   4.1355  -0.7465\n",
       "\n",
       "(17,.,.) = \n",
       "\n",
       "Columns 0 to 7 \n",
       "    0.9613  18.1045  -6.0181  -1.7947  -4.3362  -6.6394  -0.7174  -0.7259\n",
       "\n",
       "Columns 8 to 10 \n",
       "    0.8517   1.8058  -1.6758\n",
       "\n",
       "(18,.,.) = \n",
       "\n",
       "Columns 0 to 7 \n",
       "    1.0749  18.8425  -7.6235  -0.3254  -4.0762  -7.4425  -2.0770  -0.1843\n",
       "\n",
       "Columns 8 to 10 \n",
       "    0.8355   1.4410  -1.1203\n",
       "\n",
       "(19,.,.) = \n",
       "\n",
       "Columns 0 to 7 \n",
       "    0.7724  15.3864  -5.7822  -0.1418  -3.0703  -7.4635  -3.5303  -1.8162\n",
       "\n",
       "Columns 8 to 10 \n",
       "    2.7289   2.7957  -0.2400\n",
       "\n",
       "(20,.,.) = \n",
       "\n",
       "Columns 0 to 7 \n",
       "   -2.6605  -4.2010  13.6943  -3.4660  -0.0872   0.8818  -1.3831  -9.3993\n",
       "\n",
       "Columns 8 to 10 \n",
       "    4.4525   3.4229   2.1051\n",
       "\n",
       "(21,.,.) = \n",
       "\n",
       "Columns 0 to 7 \n",
       "   -4.9261  -5.9720  15.7284  -2.8554   0.5470   2.0368  -2.8176 -10.1552\n",
       "\n",
       "Columns 8 to 10 \n",
       "    1.3216   3.8237   6.6706\n",
       "\n",
       "(22,.,.) = \n",
       "\n",
       "Columns 0 to 7 \n",
       "   -5.3072  -2.2133   9.3792   0.7014   0.3601  -0.7396  -7.2167  -9.7375\n",
       "\n",
       "Columns 8 to 10 \n",
       "    0.9944   2.9521  13.2821\n",
       "\n",
       "(23,.,.) = \n",
       "\n",
       "Columns 0 to 7 \n",
       "   -5.9585  -2.5377  13.1342   1.9612   0.4704  -0.5127  -4.8249 -12.3581\n",
       "\n",
       "Columns 8 to 10 \n",
       "    1.3154   2.2038  10.1033\n",
       "\n",
       "(24,.,.) = \n",
       "\n",
       "Columns 0 to 7 \n",
       "   -1.5400  -3.8981  14.9216   3.4727  -0.5866   0.1328  -0.8177 -16.2519\n",
       "\n",
       "Columns 8 to 10 \n",
       "    2.7181  -1.8565   4.0403\n",
       "\n",
       "(25,.,.) = \n",
       "\n",
       "Columns 0 to 7 \n",
       "    4.6121  -2.0624   6.0853   6.7078  -1.6985  -0.6896   2.3043 -14.9921\n",
       "\n",
       "Columns 8 to 10 \n",
       "    2.8597  -5.4777  -1.2149\n",
       "\n",
       "(26,.,.) = \n",
       "\n",
       "Columns 0 to 7 \n",
       "    7.9777   3.5925  -2.4403   8.2634  -3.3755  -1.8743   4.7822 -10.0825\n",
       "\n",
       "Columns 8 to 10 \n",
       "   -0.5904  -5.7959  -6.3462\n",
       "\n",
       "(27,.,.) = \n",
       "\n",
       "Columns 0 to 7 \n",
       "    3.1960   7.0618  -0.4943   5.5049  -6.1801  -2.1648   4.5410  -9.8703\n",
       "\n",
       "Columns 8 to 10 \n",
       "    1.8585  -0.7640  -4.4019\n",
       "\n",
       "(28,.,.) = \n",
       "\n",
       "Columns 0 to 7 \n",
       "   -5.1127   1.5037  10.3054   1.6888  -3.2159  -1.7326  -1.8308 -11.5126\n",
       "\n",
       "Columns 8 to 10 \n",
       "    4.7990   5.2860   3.9378\n",
       "\n",
       "(29,.,.) = \n",
       "\n",
       "Columns 0 to 7 \n",
       "   -7.9202  -2.1024  10.8360  -0.9993   0.5169  -0.6407  -5.2394  -7.8906\n",
       "\n",
       "Columns 8 to 10 \n",
       "    1.6004   8.4203   9.4909\n",
       "\n",
       "(30,.,.) = \n",
       "\n",
       "Columns 0 to 7 \n",
       "   -4.5024  -1.2749   5.1402  -0.6366  -2.9477  -1.3975  -4.9610  -6.1342\n",
       "\n",
       "Columns 8 to 10 \n",
       "    1.8545   7.9564  10.6504\n",
       "\n",
       "(31,.,.) = \n",
       "\n",
       "Columns 0 to 7 \n",
       "    3.8996  -1.7674  -1.9284   5.1892  -5.7575  -1.4946  -2.1696  -7.1266\n",
       "\n",
       "Columns 8 to 10 \n",
       "    6.8887   0.4071   2.0984\n",
       "\n",
       "(32,.,.) = \n",
       "\n",
       "Columns 0 to 7 \n",
       "    8.9755  -1.1186  -7.8405   9.7857  -4.5840  -1.1270  -3.1726  -4.5584\n",
       "\n",
       "Columns 8 to 10 \n",
       "    6.7055  -4.8439  -3.8470\n",
       "\n",
       "(33,.,.) = \n",
       "\n",
       "Columns 0 to 7 \n",
       "    8.2893  -1.3726  -9.2879  13.0464  -3.0441  -0.8566  -3.7078  -3.9344\n",
       "\n",
       "Columns 8 to 10 \n",
       "    5.1091  -5.5351  -4.5070\n",
       "\n",
       "(34,.,.) = \n",
       "\n",
       "Columns 0 to 7 \n",
       "    2.1698  -2.0843  -3.2230  16.4872  -1.4167  -0.2152  -2.2488  -9.0718\n",
       "\n",
       "Columns 8 to 10 \n",
       "    3.3992  -4.8610  -0.9207\n",
       "\n",
       "(35,.,.) = \n",
       "\n",
       "Columns 0 to 7 \n",
       "    2.5919  -3.8045  -0.5613  15.5428  -1.5215   2.0954   1.0159 -10.4200\n",
       "\n",
       "Columns 8 to 10 \n",
       "    1.9828  -7.2523  -1.3674\n",
       "\n",
       "(36,.,.) = \n",
       "\n",
       "Columns 0 to 7 \n",
       "    4.2851  -3.7753  -2.3645  15.2969  -2.0480   2.4890   0.6728  -9.3844\n",
       "\n",
       "Columns 8 to 10 \n",
       "    1.8985  -7.6536  -2.1452\n",
       "\n",
       "(37,.,.) = \n",
       "\n",
       "Columns 0 to 7 \n",
       "    3.0064  -0.5486  -4.2016  12.9770  -3.8533   1.1739  -2.5200  -8.1758\n",
       "\n",
       "Columns 8 to 10 \n",
       "    2.8382  -2.8284   0.0458\n",
       "\n",
       "(38,.,.) = \n",
       "\n",
       "Columns 0 to 7 \n",
       "   -4.0794   4.1351   0.0593   2.4940  -3.6500  -2.4351  -5.8752  -5.3606\n",
       "\n",
       "Columns 8 to 10 \n",
       "    7.0023   7.9082   4.6043\n",
       "\n",
       "(39,.,.) = \n",
       "\n",
       "Columns 0 to 7 \n",
       "   -2.0608   1.4550   2.9293   2.4947  -3.3352  -4.5360  -5.5644  -8.4748\n",
       "\n",
       "Columns 8 to 10 \n",
       "   13.5345   2.5376   3.9449\n",
       "\n",
       "(40,.,.) = \n",
       "\n",
       "Columns 0 to 7 \n",
       "   -0.4209   1.4875   2.2218   1.6695  -3.7021  -5.5903  -4.4845  -7.7233\n",
       "\n",
       "Columns 8 to 10 \n",
       "   16.2019  -0.5522   2.5283\n",
       "\n",
       "(41,.,.) = \n",
       "\n",
       "Columns 0 to 7 \n",
       "   -2.4917   3.4731   2.8537   1.3982  -3.6274  -6.1070  -3.9500  -7.4998\n",
       "\n",
       "Columns 8 to 10 \n",
       "   15.2672   0.4702   3.1254\n",
       "\n",
       "(42,.,.) = \n",
       "\n",
       "Columns 0 to 7 \n",
       "   -3.6562   3.4692   3.8871  -1.4556  -1.7538  -6.3578  -5.7923  -5.9516\n",
       "\n",
       "Columns 8 to 10 \n",
       "   14.5848   3.4231   3.8744\n",
       "\n",
       "(43,.,.) = \n",
       "\n",
       "Columns 0 to 7 \n",
       "   -0.1867  -2.8068   5.3997  -1.9661   0.5805  -5.2997  -7.0725  -6.5015\n",
       "\n",
       "Columns 8 to 10 \n",
       "   14.1547   1.4335   3.9420\n",
       "\n",
       "(44,.,.) = \n",
       "\n",
       "Columns 0 to 7 \n",
       "    7.6344  -6.4881   1.1316  -1.8029   0.8721  -4.1694  -5.9315  -6.0968\n",
       "\n",
       "Columns 8 to 10 \n",
       "   10.9874  -2.6166   1.6247\n",
       "\n",
       "(45,.,.) = \n",
       "\n",
       "Columns 0 to 7 \n",
       "   16.7940  -5.5046  -5.6628  -1.4447  -1.6956  -3.0925  -3.2288  -3.1447\n",
       "\n",
       "Columns 8 to 10 \n",
       "    3.1753  -6.2582  -2.3549\n",
       "\n",
       "(46,.,.) = \n",
       "\n",
       "Columns 0 to 7 \n",
       "   19.4317  -4.6184  -7.0150  -1.5751  -3.3327  -2.5775  -1.8087  -2.6526\n",
       "\n",
       "Columns 8 to 10 \n",
       "    0.2400  -6.5780  -3.7074\n",
       "\n",
       "(47,.,.) = \n",
       "\n",
       "Columns 0 to 7 \n",
       "   20.1701  -4.4899  -7.1689  -1.2308  -3.9029  -2.1631  -1.5342  -2.9516\n",
       "\n",
       "Columns 8 to 10 \n",
       "   -0.8457  -6.6424  -3.9251\n",
       "\n",
       "(48,.,.) = \n",
       "\n",
       "Columns 0 to 7 \n",
       "   20.4628  -4.4081  -7.4238  -0.8552  -3.9480  -1.9563  -1.5329  -3.0326\n",
       "\n",
       "Columns 8 to 10 \n",
       "   -1.2959  -6.7574  -4.1115\n",
       "\n",
       "(49,.,.) = \n",
       "\n",
       "Columns 0 to 7 \n",
       "   20.5268  -4.6048  -7.2213  -0.7057  -4.2004  -1.7607  -1.3881  -3.2615\n",
       "\n",
       "Columns 8 to 10 \n",
       "   -1.4783  -6.8047  -4.0434\n",
       "\n",
       "(50,.,.) = \n",
       "\n",
       "Columns 0 to 7 \n",
       "   20.6151  -4.6440  -7.1086  -0.5555  -4.5482  -1.6414  -1.1466  -3.4098\n",
       "\n",
       "Columns 8 to 10 \n",
       "   -1.5021  -6.9529  -4.1124\n",
       "\n",
       "(51,.,.) = \n",
       "\n",
       "Columns 0 to 7 \n",
       "   20.7181  -4.5585  -7.1834  -0.4037  -4.6768  -1.5817  -0.9391  -3.3940\n",
       "\n",
       "Columns 8 to 10 \n",
       "   -1.5789  -7.1645  -4.2706\n",
       "\n",
       "(52,.,.) = \n",
       "\n",
       "Columns 0 to 7 \n",
       "   20.8177  -4.4614  -7.3883  -0.1726  -4.6112  -1.5068  -0.8828  -3.3173\n",
       "\n",
       "Columns 8 to 10 \n",
       "   -1.6747  -7.4392  -4.4054\n",
       "\n",
       "(53,.,.) = \n",
       "\n",
       "Columns 0 to 7 \n",
       "   20.9077  -4.3062  -7.6898   0.0175  -4.4670  -1.4252  -0.9547  -3.2009\n",
       "\n",
       "Columns 8 to 10 \n",
       "   -1.7896  -7.7035  -4.4509\n",
       "\n",
       "(54,.,.) = \n",
       "\n",
       "Columns 0 to 7 \n",
       "   20.9333  -4.1352  -7.8681   0.0763  -4.4090  -1.3721  -1.1060  -3.1550\n",
       "\n",
       "Columns 8 to 10 \n",
       "   -1.9183  -7.8203  -4.3303\n",
       "\n",
       "(55,.,.) = \n",
       "\n",
       "Columns 0 to 7 \n",
       "   20.9880  -3.8766  -8.1570   0.1513  -4.2697  -1.3194  -1.3369  -3.0410\n",
       "\n",
       "Columns 8 to 10 \n",
       "   -2.0797  -7.9669  -4.2494\n",
       "\n",
       "(56,.,.) = \n",
       "\n",
       "Columns 0 to 7 \n",
       "   21.0112  -3.6857  -8.3653   0.1079  -4.1241  -1.1789  -1.6013  -2.9007\n",
       "\n",
       "Columns 8 to 10 \n",
       "   -2.2763  -8.0705  -4.1158\n",
       "\n",
       "(57,.,.) = \n",
       "\n",
       "Columns 0 to 7 \n",
       "   20.9345  -3.6507  -8.3298  -0.2000  -4.1011  -0.9697  -1.9358  -2.7798\n",
       "\n",
       "Columns 8 to 10 \n",
       "   -2.4975  -7.9713  -3.7535\n",
       "\n",
       "(58,.,.) = \n",
       "\n",
       "Columns 0 to 7 \n",
       "   20.6791  -3.9938  -7.7098  -0.7337  -4.2855  -0.7231  -2.3478  -2.9077\n",
       "\n",
       "Columns 8 to 10 \n",
       "   -2.7714  -7.6122  -2.8988\n",
       "\n",
       "(59,.,.) = \n",
       "\n",
       "Columns 0 to 7 \n",
       "   19.7551  -5.0924  -5.2384  -1.6025  -4.7906  -0.7599  -2.6858  -3.9649\n",
       "\n",
       "Columns 8 to 10 \n",
       "   -3.0710  -6.5152  -1.0393\n",
       "\n",
       "(60,.,.) = \n",
       "\n",
       "Columns 0 to 7 \n",
       "   17.2139  -6.5048  -0.2602  -2.5986  -5.3512  -0.8716  -1.9741  -5.9334\n",
       "\n",
       "Columns 8 to 10 \n",
       "   -3.0492  -4.5855   0.8561\n",
       "\n",
       "(61,.,.) = \n",
       "\n",
       "Columns 0 to 7 \n",
       "   14.0344  -7.2020   4.0675  -4.3485  -4.7651  -0.8468   0.6026  -6.3654\n",
       "\n",
       "Columns 8 to 10 \n",
       "   -2.8738  -2.5990   0.3224\n",
       "\n",
       "(62,.,.) = \n",
       "\n",
       "Columns 0 to 7 \n",
       "   14.2580  -6.7049   2.8354  -4.9551  -5.2010  -0.9109   0.2660  -5.6438\n",
       "\n",
       "Columns 8 to 10 \n",
       "   -0.3294  -1.4747  -1.7913\n",
       "\n",
       "(63,.,.) = \n",
       "\n",
       "Columns 0 to 7 \n",
       "   16.9996  -2.8600  -3.3218  -2.7394  -6.9603  -1.8527  -0.3421  -5.0880\n",
       "\n",
       "Columns 8 to 10 \n",
       "    0.2208  -3.1522  -3.1574\n",
       "\n",
       "(64,.,.) = \n",
       "\n",
       "Columns 0 to 7 \n",
       "   16.7128   0.6419  -6.4974  -1.1776  -7.1636  -2.8854  -1.0903  -3.9632\n",
       "\n",
       "Columns 8 to 10 \n",
       "    0.3089  -2.9684  -3.8175\n",
       "\n",
       "(65,.,.) = \n",
       "\n",
       "Columns 0 to 7 \n",
       "   13.9314   1.7460  -4.8334   1.6432  -6.7381  -2.3265  -1.1623  -6.1676\n",
       "\n",
       "Columns 8 to 10 \n",
       "   -0.6638  -3.7919  -1.6509\n",
       "[torch.cuda.FloatTensor of size 66x1x11 (GPU 0)]"
      ]
     },
     "execution_count": 11,
     "metadata": {},
     "output_type": "execute_result"
    }
   ],
   "source": [
    "preds"
   ]
  },
  {
   "cell_type": "code",
   "execution_count": null,
   "metadata": {
    "collapsed": true
   },
   "outputs": [],
   "source": [
    "all_file_name = os.listdir('/home/sherlock/Documents/express_recognition/data/validation/telephone/')"
   ]
  },
  {
   "cell_type": "code",
   "execution_count": null,
   "metadata": {
    "collapsed": false,
    "scrolled": false
   },
   "outputs": [],
   "source": [
    "for img in all_file_name:\n",
    "    show_result(img)\n",
    "    print()"
   ]
  }
 ],
 "metadata": {
  "anaconda-cloud": {},
  "kernelspec": {
   "display_name": "Python [conda env:pytorch]",
   "language": "python",
   "name": "conda-env-pytorch-py"
  },
  "language_info": {
   "codemirror_mode": {
    "name": "ipython",
    "version": 3
   },
   "file_extension": ".py",
   "mimetype": "text/x-python",
   "name": "python",
   "nbconvert_exporter": "python",
   "pygments_lexer": "ipython3",
   "version": "3.6.1"
  },
  "nbpresent": {
   "slides": {
    "00a5f9b8-be6f-4b31-916e-66887344fedd": {
     "id": "00a5f9b8-be6f-4b31-916e-66887344fedd",
     "prev": "bfac3f67-9be6-467d-9696-1682946e27c2",
     "regions": {
      "c8cdbfda-77ed-43cd-9445-7225d5d3b9e6": {
       "attrs": {
        "height": 0.8,
        "width": 0.8,
        "x": 0.1,
        "y": 0.1
       },
       "content": {
        "cell": "332413a8-c9b4-49e9-b4c4-24bd5d260780",
        "part": "whole"
       },
       "id": "c8cdbfda-77ed-43cd-9445-7225d5d3b9e6"
      }
     }
    },
    "02adf549-1587-49c1-99ec-6bb86faec557": {
     "id": "02adf549-1587-49c1-99ec-6bb86faec557",
     "prev": "00a5f9b8-be6f-4b31-916e-66887344fedd",
     "regions": {
      "d9a3376b-663d-40d6-abf1-eda41bc18962": {
       "attrs": {
        "height": 0.8,
        "width": 0.8,
        "x": 0.1,
        "y": 0.1
       },
       "content": {
        "cell": "d12f514e-11ca-4713-8fba-3f3eb262417d",
        "part": "whole"
       },
       "id": "d9a3376b-663d-40d6-abf1-eda41bc18962"
      }
     }
    },
    "0d4b3e5a-99eb-41b5-b4ab-f1d28426351b": {
     "id": "0d4b3e5a-99eb-41b5-b4ab-f1d28426351b",
     "prev": "a7e6f0e3-929b-4b01-9e5f-7a4ac3af93b4",
     "regions": {
      "039878a4-d49e-48d8-ba52-b1d3bbfd6d70": {
       "attrs": {
        "height": 0.8,
        "width": 0.8,
        "x": 0.1,
        "y": 0.1
       },
       "content": {
        "cell": "8cf4dc5b-6df8-42cc-838c-6d5aefbf934a",
        "part": "whole"
       },
       "id": "039878a4-d49e-48d8-ba52-b1d3bbfd6d70"
      }
     }
    },
    "257eeeb4-e734-4366-8014-e9dcfc8f5e9e": {
     "id": "257eeeb4-e734-4366-8014-e9dcfc8f5e9e",
     "prev": "0d4b3e5a-99eb-41b5-b4ab-f1d28426351b",
     "regions": {
      "0d1f2c79-e836-4aa3-9745-b8f698e091b0": {
       "attrs": {
        "height": 0.8,
        "width": 0.8,
        "x": 0.1,
        "y": 0.1
       },
       "content": {
        "cell": "5461cc46-2e3e-4685-8565-c6857b388a15",
        "part": "whole"
       },
       "id": "0d1f2c79-e836-4aa3-9745-b8f698e091b0"
      }
     }
    },
    "3153ee1e-c265-456c-a2c2-4d7959008299": {
     "id": "3153ee1e-c265-456c-a2c2-4d7959008299",
     "prev": "5769b544-1f77-42d8-b5c5-f7d25cab108c",
     "regions": {
      "099165ec-f597-44a5-ac6b-c174a0a403b6": {
       "attrs": {
        "height": 0.8,
        "width": 0.8,
        "x": 0.1,
        "y": 0.1
       },
       "content": {
        "cell": "573132be-619a-4463-8667-b90f7a0270dc",
        "part": "whole"
       },
       "id": "099165ec-f597-44a5-ac6b-c174a0a403b6"
      }
     }
    },
    "5769b544-1f77-42d8-b5c5-f7d25cab108c": {
     "id": "5769b544-1f77-42d8-b5c5-f7d25cab108c",
     "prev": null,
     "regions": {
      "f1075efc-f811-4aaf-b74d-649de95b0edb": {
       "attrs": {
        "height": 0.8,
        "width": 0.8,
        "x": 0.1,
        "y": 0.1
       },
       "content": {
        "cell": "0a8f9d41-437b-4118-aaf5-d32fb36f429f",
        "part": "whole"
       },
       "id": "f1075efc-f811-4aaf-b74d-649de95b0edb"
      }
     }
    },
    "a7e6f0e3-929b-4b01-9e5f-7a4ac3af93b4": {
     "id": "a7e6f0e3-929b-4b01-9e5f-7a4ac3af93b4",
     "prev": "02adf549-1587-49c1-99ec-6bb86faec557",
     "regions": {
      "fca008fc-a36b-4fd7-a7a3-77e46b250029": {
       "attrs": {
        "height": 0.8,
        "width": 0.8,
        "x": 0.1,
        "y": 0.1
       },
       "content": {
        "cell": "bc9476f7-d50a-4532-978c-f826d558083b",
        "part": "whole"
       },
       "id": "fca008fc-a36b-4fd7-a7a3-77e46b250029"
      }
     }
    },
    "bfac3f67-9be6-467d-9696-1682946e27c2": {
     "id": "bfac3f67-9be6-467d-9696-1682946e27c2",
     "prev": "3153ee1e-c265-456c-a2c2-4d7959008299",
     "regions": {
      "299f4bb9-1c46-4f42-9d79-fe8f1b586bdf": {
       "attrs": {
        "height": 0.8,
        "width": 0.8,
        "x": 0.1,
        "y": 0.1
       },
       "content": {
        "cell": "35d05ed1-02e7-47fc-906d-42996c6a481e",
        "part": "whole"
       },
       "id": "299f4bb9-1c46-4f42-9d79-fe8f1b586bdf"
      }
     }
    }
   },
   "themes": {
    "default": "391583de-c142-4356-a37f-92f3dc4fa91b",
    "theme": {
     "391583de-c142-4356-a37f-92f3dc4fa91b": {
      "id": "391583de-c142-4356-a37f-92f3dc4fa91b",
      "palette": {
       "19cc588f-0593-49c9-9f4b-e4d7cc113b1c": {
        "id": "19cc588f-0593-49c9-9f4b-e4d7cc113b1c",
        "rgb": [
         252,
         252,
         252
        ]
       },
       "31af15d2-7e15-44c5-ab5e-e04b16a89eff": {
        "id": "31af15d2-7e15-44c5-ab5e-e04b16a89eff",
        "rgb": [
         68,
         68,
         68
        ]
       },
       "50f92c45-a630-455b-aec3-788680ec7410": {
        "id": "50f92c45-a630-455b-aec3-788680ec7410",
        "rgb": [
         155,
         177,
         192
        ]
       },
       "c5cc3653-2ee1-402a-aba2-7caae1da4f6c": {
        "id": "c5cc3653-2ee1-402a-aba2-7caae1da4f6c",
        "rgb": [
         43,
         126,
         184
        ]
       },
       "efa7f048-9acb-414c-8b04-a26811511a21": {
        "id": "efa7f048-9acb-414c-8b04-a26811511a21",
        "rgb": [
         25.118061674008803,
         73.60176211453744,
         107.4819383259912
        ]
       }
      },
      "rules": {
       "blockquote": {
        "color": "50f92c45-a630-455b-aec3-788680ec7410"
       },
       "code": {
        "font-family": "Anonymous Pro"
       },
       "h1": {
        "color": "c5cc3653-2ee1-402a-aba2-7caae1da4f6c",
        "font-family": "Lato",
        "font-size": 8
       },
       "h2": {
        "color": "c5cc3653-2ee1-402a-aba2-7caae1da4f6c",
        "font-family": "Lato",
        "font-size": 6
       },
       "h3": {
        "color": "50f92c45-a630-455b-aec3-788680ec7410",
        "font-family": "Lato",
        "font-size": 5.5
       },
       "h4": {
        "color": "c5cc3653-2ee1-402a-aba2-7caae1da4f6c",
        "font-family": "Lato",
        "font-size": 5
       },
       "h5": {
        "font-family": "Lato"
       },
       "h6": {
        "font-family": "Lato"
       },
       "h7": {
        "font-family": "Lato"
       },
       "pre": {
        "font-family": "Anonymous Pro",
        "font-size": 4
       }
      },
      "text-base": {
       "font-family": "Merriweather",
       "font-size": 4
      }
     },
     "3f9fd830-0475-4678-8180-c475213af7a2": {
      "backgrounds": {
       "dc7afa04-bf90-40b1-82a5-726e3cff5267": {
        "background-color": "31af15d2-7e15-44c5-ab5e-e04b16a89eff",
        "id": "dc7afa04-bf90-40b1-82a5-726e3cff5267"
       }
      },
      "id": "3f9fd830-0475-4678-8180-c475213af7a2",
      "palette": {
       "19cc588f-0593-49c9-9f4b-e4d7cc113b1c": {
        "id": "19cc588f-0593-49c9-9f4b-e4d7cc113b1c",
        "rgb": [
         252,
         252,
         252
        ]
       },
       "31af15d2-7e15-44c5-ab5e-e04b16a89eff": {
        "id": "31af15d2-7e15-44c5-ab5e-e04b16a89eff",
        "rgb": [
         68,
         68,
         68
        ]
       },
       "50f92c45-a630-455b-aec3-788680ec7410": {
        "id": "50f92c45-a630-455b-aec3-788680ec7410",
        "rgb": [
         197,
         226,
         245
        ]
       },
       "c5cc3653-2ee1-402a-aba2-7caae1da4f6c": {
        "id": "c5cc3653-2ee1-402a-aba2-7caae1da4f6c",
        "rgb": [
         43,
         126,
         184
        ]
       },
       "efa7f048-9acb-414c-8b04-a26811511a21": {
        "id": "efa7f048-9acb-414c-8b04-a26811511a21",
        "rgb": [
         25.118061674008803,
         73.60176211453744,
         107.4819383259912
        ]
       }
      },
      "rules": {
       "a": {
        "color": "19cc588f-0593-49c9-9f4b-e4d7cc113b1c"
       },
       "blockquote": {
        "color": "50f92c45-a630-455b-aec3-788680ec7410",
        "font-size": 3
       },
       "code": {
        "font-family": "Anonymous Pro"
       },
       "h1": {
        "color": "19cc588f-0593-49c9-9f4b-e4d7cc113b1c",
        "font-family": "Merriweather",
        "font-size": 8
       },
       "h2": {
        "color": "19cc588f-0593-49c9-9f4b-e4d7cc113b1c",
        "font-family": "Merriweather",
        "font-size": 6
       },
       "h3": {
        "color": "50f92c45-a630-455b-aec3-788680ec7410",
        "font-family": "Lato",
        "font-size": 5.5
       },
       "h4": {
        "color": "c5cc3653-2ee1-402a-aba2-7caae1da4f6c",
        "font-family": "Lato",
        "font-size": 5
       },
       "h5": {
        "font-family": "Lato"
       },
       "h6": {
        "font-family": "Lato"
       },
       "h7": {
        "font-family": "Lato"
       },
       "li": {
        "color": "50f92c45-a630-455b-aec3-788680ec7410",
        "font-size": 3.25
       },
       "pre": {
        "font-family": "Anonymous Pro",
        "font-size": 4
       }
      },
      "text-base": {
       "color": "19cc588f-0593-49c9-9f4b-e4d7cc113b1c",
       "font-family": "Lato",
       "font-size": 4
      }
     }
    }
   }
  }
 },
 "nbformat": 4,
 "nbformat_minor": 1
}
