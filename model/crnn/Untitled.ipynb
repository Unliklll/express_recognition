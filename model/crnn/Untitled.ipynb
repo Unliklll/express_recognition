{
 "cells": [
  {
   "cell_type": "code",
   "execution_count": 1,
   "metadata": {
    "collapsed": true
   },
   "outputs": [],
   "source": [
    "import random\n",
    "import torch\n",
    "\n",
    "import torch.optim as optim\n",
    "from torch.utils.data import DataLoader\n",
    "from torch.autograd import Variable\n",
    "import numpy as np\n",
    "from warpctc_pytorch import CTCLoss\n",
    "import os\n",
    "import utils\n",
    "import dataset\n",
    "import crnn"
   ]
  },
  {
   "cell_type": "code",
   "execution_count": 2,
   "metadata": {
    "collapsed": false
   },
   "outputs": [],
   "source": [
    "dset = dataset.Dataset(img_root='/home/sherlock/Documents/express_recognition/data/train/telephone/', \n",
    "                       txt_root='/home/sherlock/Documents/express_recognition/data/train/telephone_label_train.txt')\n",
    "dataloader = DataLoader(dset, batch_size=32, num_workers=4, collate_fn=dataset.alignCollate())"
   ]
  },
  {
   "cell_type": "code",
   "execution_count": 3,
   "metadata": {
    "collapsed": false
   },
   "outputs": [
    {
     "name": "stdout",
     "output_type": "stream",
     "text": [
      "[0/10000][10/52] Loss: 50.982706\n",
      "[0/10000][20/52] Loss: 50.685906\n",
      "[0/10000][30/52] Loss: 50.558454\n",
      "[0/10000][40/52] Loss: 50.412920\n",
      "[0/10000][50/52] Loss: 50.241802\n",
      "[100/10000][10/52] Loss: 23.985806\n",
      "[100/10000][20/52] Loss: 20.593498\n",
      "[100/10000][30/52] Loss: 20.658182\n",
      "[100/10000][40/52] Loss: 20.924697\n",
      "[100/10000][50/52] Loss: 20.853966\n",
      "[200/10000][10/52] Loss: 17.678644\n",
      "[200/10000][20/52] Loss: 14.101414\n",
      "[200/10000][30/52] Loss: 14.380521\n",
      "[200/10000][40/52] Loss: 14.861000\n",
      "[200/10000][50/52] Loss: 15.005163\n",
      "[300/10000][10/52] Loss: 11.621246\n",
      "[300/10000][20/52] Loss: 8.384962\n",
      "[300/10000][30/52] Loss: 8.697979\n",
      "[300/10000][40/52] Loss: 9.402159\n",
      "[300/10000][50/52] Loss: 9.536990\n",
      "[400/10000][10/52] Loss: 6.532733\n",
      "[400/10000][20/52] Loss: 3.923311\n",
      "[400/10000][30/52] Loss: 4.177174\n",
      "[400/10000][40/52] Loss: 4.857419\n",
      "[400/10000][50/52] Loss: 4.944170\n",
      "[500/10000][10/52] Loss: 2.809282\n",
      "[500/10000][20/52] Loss: 1.344193\n",
      "[500/10000][30/52] Loss: 1.530953\n",
      "[500/10000][40/52] Loss: 1.839359\n",
      "[500/10000][50/52] Loss: 1.818325\n",
      "[600/10000][10/52] Loss: 0.922303\n",
      "[600/10000][20/52] Loss: 0.354919\n",
      "[600/10000][30/52] Loss: 0.394123\n",
      "[600/10000][40/52] Loss: 0.508112\n",
      "[600/10000][50/52] Loss: 0.535043\n",
      "[700/10000][10/52] Loss: 0.242699\n",
      "[700/10000][20/52] Loss: 0.082021\n",
      "[700/10000][30/52] Loss: 0.084794\n",
      "[700/10000][40/52] Loss: 0.130530\n",
      "[700/10000][50/52] Loss: 0.166840\n"
     ]
    }
   ],
   "source": [
    "nh = 100\n",
    "alphabet = '0123456789'\n",
    "nclass = len(alphabet) + 1\n",
    "nc = 3\n",
    "\n",
    "converter = utils.strLabelConverter(alphabet)\n",
    "criterion = CTCLoss()\n",
    "\n",
    "mynet = crnn.CRNN(32, nc, nclass, nh)\n",
    "\n",
    "mynet.cuda()\n",
    "\n",
    "criterion = criterion.cuda()\n",
    "\n",
    "loss_avg = utils.averager()\n",
    "optimizer = optim.Adadelta(mynet.parameters(), lr=1e-3)\n",
    "\n",
    "def trainBatch(crnn, criterion, optimizer):\n",
    "    data = train_iter.next()\n",
    "    cpu_images, cpu_texts = data\n",
    "    batch_size = cpu_images.size(0)\n",
    "    image = torch.FloatTensor(cpu_images)\n",
    "    image = Variable(image).cuda()\n",
    "    t, le = converter.encode(cpu_texts)\n",
    "    text = torch.IntTensor(t)\n",
    "    text = Variable(text)\n",
    "    length = torch.IntTensor(le)\n",
    "    length = Variable(length)\n",
    "    preds = crnn(image)\n",
    "    preds_size = Variable(torch.IntTensor([preds.size(0)] * batch_size))\n",
    "    cost = criterion(preds, text, preds_size, length) / batch_size\n",
    "    crnn.zero_grad()\n",
    "    cost.backward()\n",
    "    optimizer.step()\n",
    "    return cost\n",
    "\n",
    "\n",
    "for epoch in range(800):\n",
    "    train_iter = iter(dataloader)\n",
    "    i = 0\n",
    "    while i < len(dataloader):\n",
    "        for p in mynet.parameters():\n",
    "            p.requires_grad = True\n",
    "        mynet.train()\n",
    "\n",
    "        cost = trainBatch(mynet, criterion, optimizer)\n",
    "        loss_avg.add(cost)\n",
    "        i += 1\n",
    "        if epoch % 100 == 0:\n",
    "            if i % 10 == 0:\n",
    "                print('[%d/%d][%d/%d] Loss: %f' %\n",
    "                      (epoch, 10000, i, len(dataloader), loss_avg.val()))\n",
    "                loss_avg.reset()\n",
    "\n",
    "#         if i % opt.valInterval == 0:\n",
    "#             val(crnn, test_dataset, criterion)\n",
    "\n",
    "        # do checkpointing\n",
    "#         if i % opt.saveInterval == 0:\n",
    "#             torch.save(\n",
    "#                 crnn.state_dict(),\n",
    "#                 '{0}/netCRNN_{1}_{2}.pth'.format(opt.experiment, epoch, i))\n"
   ]
  },
  {
   "cell_type": "code",
   "execution_count": null,
   "metadata": {
    "collapsed": true
   },
   "outputs": [],
   "source": [
    "nh = 100\n",
    "alphabet = '0123456789'\n",
    "nclass = len(alphabet) + 1\n",
    "nc = 1\n",
    "batch_size = 1\n",
    "\n",
    "converter = utils.strLabelConverter(alphabet)\n",
    "criterion = CTCLoss()\n",
    "\n",
    "mynet = crnn.CRNN(32, nc, nclass, nh)\n",
    "\n",
    "mynet.cuda()\n",
    "\n",
    "loss_avg = utils.averager()\n",
    "optimizer = optim.Adadelta(mynet.parameters(), lr=1e-3)"
   ]
  },
  {
   "cell_type": "code",
   "execution_count": null,
   "metadata": {
    "collapsed": false
   },
   "outputs": [],
   "source": [
    "for epoch in range(10000):\n",
    "    running_loss = 0.0\n",
    "    for i, data in enumerate(dataloader, 1):\n",
    "        img, label = data\n",
    "        img = Variable(img).cuda()\n",
    "        t, le = converter.encode(label)\n",
    "        text = torch.IntTensor(t)\n",
    "        text = Variable(text)\n",
    "        length = torch.IntTensor(le)\n",
    "        length = Variable(length)\n",
    "        preds = mynet(img)\n",
    "        preds_size = Variable(torch.IntTensor([preds.size(0)] * batch_size))\n",
    "        loss = criterion(preds, text, preds_size, length)\n",
    "        # backward\n",
    "        optimizer.zero_grad()\n",
    "        loss.backward()\n",
    "        optimizer.step()\n",
    "        running_loss += loss\n",
    "        if i % 100 == 0:\n",
    "            print('{}, Loss: {}'.format(epoch, running_loss / (i * batch_size)))\n",
    "    print()\n",
    "print('Finish Training!')"
   ]
  },
  {
   "cell_type": "code",
   "execution_count": 7,
   "metadata": {
    "collapsed": false
   },
   "outputs": [
    {
     "name": "stdout",
     "output_type": "stream",
     "text": [
      "118883399922---003333-3377111155- => 18392033715         \n"
     ]
    }
   ],
   "source": [
    "import PIL.Image as Image\n",
    "img_path = '/home/sherlock/Documents/express_recognition/data/train/telephone/290.png'\n",
    "transformer = dataset.resizeNormalize((128, 32))\n",
    "image = Image.open(img_path).convert('RGB')\n",
    "image = transformer(image).cuda()\n",
    "image = image.view(1, *image.size())\n",
    "image = Variable(image)\n",
    "\n",
    "mynet.eval()\n",
    "preds = mynet(image)\n",
    "_, preds = preds.max(2)\n",
    "preds = preds.squeeze(2)\n",
    "preds = preds.transpose(1, 0).contiguous().view(-1)\n",
    "preds_size = Variable(torch.IntTensor([preds.size(0)]))\n",
    "raw_pred = converter.decode(preds.data, preds_size.data, raw=True)\n",
    "sim_pred = converter.decode(preds.data, preds_size.data, raw=False)\n",
    "print('%-20s => %-20s' % (raw_pred, sim_pred))"
   ]
  },
  {
   "cell_type": "code",
   "execution_count": null,
   "metadata": {
    "collapsed": true
   },
   "outputs": [],
   "source": []
  }
 ],
 "metadata": {
  "anaconda-cloud": {},
  "kernelspec": {
   "display_name": "Python [conda env:pytorch]",
   "language": "python",
   "name": "conda-env-pytorch-py"
  },
  "language_info": {
   "codemirror_mode": {
    "name": "ipython",
    "version": 3
   },
   "file_extension": ".py",
   "mimetype": "text/x-python",
   "name": "python",
   "nbconvert_exporter": "python",
   "pygments_lexer": "ipython3",
   "version": "3.6.1"
  }
 },
 "nbformat": 4,
 "nbformat_minor": 1
}
