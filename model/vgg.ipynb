{
 "cells": [
  {
   "cell_type": "markdown",
   "metadata": {},
   "source": [
    "### import packages"
   ]
  },
  {
   "cell_type": "code",
   "execution_count": 4,
   "metadata": {
    "collapsed": false
   },
   "outputs": [],
   "source": [
    "import torch\n",
    "from torch import nn\n",
    "from torch.autograd import Variable\n",
    "import torch.nn.functional as F\n",
    "from torch import optim\n",
    "from torch.utils.data import DataLoader\n",
    "import torchvision\n",
    "from torchvision import transforms\n",
    "from torchvision.datasets import ImageFolder\n",
    "import numpy as np\n",
    "import os\n",
    "import time"
   ]
  },
  {
   "cell_type": "markdown",
   "metadata": {},
   "source": [
    "### data preprocess"
   ]
  },
  {
   "cell_type": "code",
   "execution_count": 2,
   "metadata": {
    "collapsed": false
   },
   "outputs": [],
   "source": [
    "# 数据预处理，做一些scale，随机crop，normalizaiotn到0-1之间\n",
    "img_transform = {\n",
    "    'train': transforms.Compose([\n",
    "            transforms.Scale(300),\n",
    "            transforms.CenterCrop(224),\n",
    "            transforms.ToTensor()\n",
    "#             transforms.Normalize((0, 0, 0), (255, 255, 255))\n",
    "        ]),\n",
    "    'val': transforms.Compose([\n",
    "#             transforms.Scale(300),\n",
    "            transforms.CenterCrop(160),\n",
    "            transforms.ToTensor()\n",
    "#             transforms.Normalize((0, 0, 0), (255, 255, 255))\n",
    "        ])\n",
    "}\n",
    "\n",
    "root_path = '../data'\n",
    "\n",
    "#读取数据文件夹\n",
    "dset = {\n",
    "    'train': ImageFolder(os.path.join(root_path, 'train/province'), transform=img_transform['train']),\n",
    "    'val': ImageFolder(os.path.join(root_path, 'val/province'), transform=img_transform['val'])\n",
    "}\n",
    "\n",
    "#读取数据\n",
    "dataloader = {\n",
    "    'train': DataLoader(dset['train'], batch_size=16, shuffle=True, num_workers=4),\n",
    "    'val': DataLoader(dset['val'], batch_size=16, num_workers=4)\n",
    "}\n",
    "\n",
    "# img, label = iter(dataloader['train']).next()\n",
    "\n",
    "# a = img[0].numpy()\n",
    "# a = np.transpose(a, (1, 2, 0))\n",
    "# plt.imshow(a)"
   ]
  },
  {
   "cell_type": "code",
   "execution_count": 6,
   "metadata": {
    "collapsed": true
   },
   "outputs": [],
   "source": [
    "import matplotlib.pyplot as plt\n",
    "%matplotlib inline"
   ]
  },
  {
   "cell_type": "code",
   "execution_count": 7,
   "metadata": {
    "collapsed": false
   },
   "outputs": [
    {
     "data": {
      "text/plain": [
       "<matplotlib.image.AxesImage at 0x7f19514dc470>"
      ]
     },
     "execution_count": 7,
     "metadata": {},
     "output_type": "execute_result"
    },
    {
     "data": {
      "image/png": "[encoded data removed]",
      "text/plain": [
       "<matplotlib.figure.Figure at 0x7f195217d630>"
      ]
     },
     "metadata": {},
     "output_type": "display_data"
    }
   ],
   "source": [
    "img, label = iter(dataloader['train']).next()\n",
    "\n",
    "a = img[0].numpy()\n",
    "a = np.transpose(a, (1, 2, 0))\n",
    "plt.imshow(a)"
   ]
  },
  {
   "cell_type": "code",
   "execution_count": 3,
   "metadata": {
    "collapsed": true
   },
   "outputs": [],
   "source": [
    "#确定数据size\n",
    "data_size = {\n",
    "    x: len(dataloader[x].dataset.imgs)\n",
    "    for x in ['train', 'val']\n",
    "}"
   ]
  },
  {
   "cell_type": "code",
   "execution_count": 4,
   "metadata": {
    "collapsed": false
   },
   "outputs": [
    {
     "name": "stdout",
     "output_type": "stream",
     "text": [
      "size of train data set: 300\n",
      "size of validation data set: 300\n"
     ]
    }
   ],
   "source": [
    "print('size of train data set: {}'.format(data_size['train']))# 每个文件夹放了一张图片做一个示例\n",
    "print('size of validation data set: {}'.format(data_size['val']))"
   ]
  },
  {
   "cell_type": "code",
   "execution_count": 5,
   "metadata": {
    "collapsed": false
   },
   "outputs": [],
   "source": [
    "img_classes = dataloader['train'].dataset.classes"
   ]
  },
  {
   "cell_type": "code",
   "execution_count": 6,
   "metadata": {
    "collapsed": false
   },
   "outputs": [
    {
     "name": "stdout",
     "output_type": "stream",
     "text": [
      "class of province: ['anhui', 'guangdong', 'jiangsu', 'shanghai', 'sichaun', 'zhejiang']\n"
     ]
    }
   ],
   "source": [
    "# 创建了三个省份作为示例，顺序按照文件夹的顺序\n",
    "print('class of province: {}'.format(img_classes))"
   ]
  },
  {
   "cell_type": "code",
   "execution_count": 7,
   "metadata": {
    "collapsed": true
   },
   "outputs": [],
   "source": [
    "#判断能不能用cuda，增加鲁棒性\n",
    "use_gpu = torch.cuda.is_available()"
   ]
  },
  {
   "cell_type": "code",
   "execution_count": 8,
   "metadata": {
    "collapsed": false
   },
   "outputs": [
    {
     "name": "stdout",
     "output_type": "stream",
     "text": [
      "in my computer, cuda availabel? \n",
      "True\n"
     ]
    }
   ],
   "source": [
    "print(\"in my computer, cuda availabel? \\n{}\".format(use_gpu))"
   ]
  },
  {
   "cell_type": "markdown",
   "metadata": {},
   "source": [
    "## build vgg net\n",
    "之所以选择vgg因为这个问题不需要太复杂的网络，所以选择了一个相对简单的网络结构  \n",
    "详细网络结构见下面网址\n",
    "http://ethereon.github.io/netscope/#/gist/dc5003de6943ea5a6b8b"
   ]
  },
  {
   "cell_type": "code",
   "execution_count": 9,
   "metadata": {
    "collapsed": true
   },
   "outputs": [],
   "source": [
    "class vgg16(nn.Module):\n",
    "    def __init__(self, in_c, out_class):\n",
    "        super(vgg16, self).__init__()\n",
    "        self.conv1 = nn.Sequential(\n",
    "                nn.Conv2d(in_c, 64, 3, stride=1, padding=1),\n",
    "                nn.ReLU(True),\n",
    "                nn.Conv2d(64, 64, 3, stride=1, padding=1),\n",
    "                nn.ReLU(True)\n",
    "            )\n",
    "        self.conv2 = nn.Sequential(\n",
    "                nn.Conv2d(64, 128, 3, stride=1, padding=1),\n",
    "                nn.ReLU(True),\n",
    "                nn.Conv2d(128, 128, 3, stride=1, padding=1),\n",
    "                nn.ReLU(True)\n",
    "            )\n",
    "        self.conv3 = nn.Sequential(\n",
    "                nn.Conv2d(128, 256, 3, stride=1, padding=1),\n",
    "                nn.ReLU(True),\n",
    "                nn.Conv2d(256, 256, 3, stride=1, padding=1),\n",
    "                nn.ReLU(True),\n",
    "                nn.Conv2d(256, 256, 3, stride=1, padding=1),\n",
    "                nn.ReLU(True),\n",
    "                nn.AvgPool2d(40)\n",
    "            )\n",
    "#         self.conv4 = nn.Sequential(\n",
    "#                 nn.Conv2d(256, 512, 3, stride=1, padding=1),\n",
    "#                 nn.ReLU(True),\n",
    "#                 nn.Conv2d(512, 512, 3, stride=1, padding=1),\n",
    "#                 nn.ReLU(True),\n",
    "#                 nn.Conv2d(512, 512, 3, stride=1, padding=1),\n",
    "#                 nn.ReLU(True)\n",
    "#             )\n",
    "#         self.conv5 = nn.Sequential(\n",
    "#                 nn.Conv2d(512, 512, 3, stride=1, padding=1),\n",
    "#                 nn.ReLU(True),\n",
    "#                 nn.Conv2d(512, 512, 3, stride=1, padding=1),\n",
    "#                 nn.ReLU(True),\n",
    "#                 nn.Conv2d(512, 512, 3, stride=1, padding=1),\n",
    "#                 nn.ReLU(True)\n",
    "#             )\n",
    "        self.fc1 = nn.Linear(256, out_class)\n",
    "        \n",
    "    def forward(self, x):\n",
    "        x = self.conv1(x)\n",
    "        x = F.max_pool2d(x, 2, stride=2)\n",
    "        x = self.conv2(x)\n",
    "        x = F.max_pool2d(x, 2, stride=2)\n",
    "        x = self.conv3(x)\n",
    "        x = x.view(x.size(0), -1)\n",
    "        x = self.fc1(x)\n",
    "        return x"
   ]
  },
  {
   "cell_type": "code",
   "execution_count": 10,
   "metadata": {
    "collapsed": false
   },
   "outputs": [],
   "source": [
    "mynet = vgg16(3, 6)\n",
    "# mynet = torchvision.models.resnet101()"
   ]
  },
  {
   "cell_type": "code",
   "execution_count": 11,
   "metadata": {
    "collapsed": false
   },
   "outputs": [
    {
     "data": {
      "text/plain": [
       "vgg16 (\n",
       "  (conv1): Sequential (\n",
       "    (0): Conv2d(3, 64, kernel_size=(3, 3), stride=(1, 1), padding=(1, 1))\n",
       "    (1): ReLU (inplace)\n",
       "    (2): Conv2d(64, 64, kernel_size=(3, 3), stride=(1, 1), padding=(1, 1))\n",
       "    (3): ReLU (inplace)\n",
       "  )\n",
       "  (conv2): Sequential (\n",
       "    (0): Conv2d(64, 128, kernel_size=(3, 3), stride=(1, 1), padding=(1, 1))\n",
       "    (1): ReLU (inplace)\n",
       "    (2): Conv2d(128, 128, kernel_size=(3, 3), stride=(1, 1), padding=(1, 1))\n",
       "    (3): ReLU (inplace)\n",
       "  )\n",
       "  (conv3): Sequential (\n",
       "    (0): Conv2d(128, 256, kernel_size=(3, 3), stride=(1, 1), padding=(1, 1))\n",
       "    (1): ReLU (inplace)\n",
       "    (2): Conv2d(256, 256, kernel_size=(3, 3), stride=(1, 1), padding=(1, 1))\n",
       "    (3): ReLU (inplace)\n",
       "    (4): Conv2d(256, 256, kernel_size=(3, 3), stride=(1, 1), padding=(1, 1))\n",
       "    (5): ReLU (inplace)\n",
       "    (6): AvgPool2d (\n",
       "    )\n",
       "  )\n",
       "  (fc1): Linear (256 -> 6)\n",
       ")"
      ]
     },
     "execution_count": 11,
     "metadata": {},
     "output_type": "execute_result"
    }
   ],
   "source": [
    "mynet"
   ]
  },
  {
   "cell_type": "code",
   "execution_count": 22,
   "metadata": {
    "collapsed": false
   },
   "outputs": [],
   "source": [
    "mynet.fc = nn.Sequential(nn.Linear(2048, 1000),\n",
    "                         nn.ReLU(True),\n",
    "                         nn.Linear(1000, 500),\n",
    "                         nn.ReLU(True),\n",
    "                         nn.Linear(500, 2),\n",
    "                         nn.Softmax())"
   ]
  },
  {
   "cell_type": "code",
   "execution_count": 16,
   "metadata": {
    "collapsed": false
   },
   "outputs": [],
   "source": [
    "mynet.classifier = nn.Sequential(nn.Linear(25088, 4096), \n",
    "                                 nn.ReLU(True), \n",
    "                                 nn.Dropout(0.5),\n",
    "                                 nn.Linear(4096, 400),\n",
    "                                 nn.ReLU(True),\n",
    "                                 nn.Dropout(0.5),\n",
    "                                 nn.Linear(400, 2),\n",
    "                                 nn.Softmax()\n",
    "                                 )"
   ]
  },
  {
   "cell_type": "code",
   "execution_count": 12,
   "metadata": {
    "collapsed": false
   },
   "outputs": [],
   "source": [
    "if use_gpu:\n",
    "    mynet = mynet.cuda()"
   ]
  },
  {
   "cell_type": "code",
   "execution_count": 28,
   "metadata": {
    "collapsed": false
   },
   "outputs": [],
   "source": [
    "#print('network structure:')\n",
    "#mynet"
   ]
  },
  {
   "cell_type": "code",
   "execution_count": 13,
   "metadata": {
    "collapsed": false
   },
   "outputs": [],
   "source": [
    "# define optimizer and loss\n",
    "optimizer = optim.SGD(mynet.parameters(), lr=1e-3, momentum=0.9) \n",
    "# 随机梯度下降，之后可以选择别的速度更快的如rmsprop\n",
    "criterion = nn.CrossEntropyLoss()"
   ]
  },
  {
   "cell_type": "markdown",
   "metadata": {},
   "source": [
    "### begin train"
   ]
  },
  {
   "cell_type": "code",
   "execution_count": 14,
   "metadata": {
    "collapsed": true
   },
   "outputs": [],
   "source": [
    "num_epoch = 50"
   ]
  },
  {
   "cell_type": "code",
   "execution_count": null,
   "metadata": {
    "collapsed": false
   },
   "outputs": [
    {
     "name": "stdout",
     "output_type": "stream",
     "text": [
      "0\n",
      "**********\n",
      "1.7922750600179036\n",
      "0.16666666666666666\n",
      "\n",
      "1\n",
      "**********\n",
      "1.7922442038853963\n",
      "0.16666666666666666\n",
      "\n",
      "2\n",
      "**********\n",
      "1.7922274382909138\n",
      "0.16666666666666666\n",
      "\n",
      "3\n",
      "**********\n",
      "1.7922228797276816\n",
      "0.16666666666666666\n",
      "\n",
      "4\n",
      "**********\n",
      "1.792212568918864\n",
      "0.16666666666666666\n",
      "\n",
      "5\n",
      "**********\n",
      "1.7921974500020346\n",
      "0.16666666666666666\n",
      "\n",
      "6\n",
      "**********\n",
      "1.7921104113260904\n",
      "0.16666666666666666\n",
      "\n",
      "7\n",
      "**********\n",
      "1.7922634903589885\n",
      "0.16666666666666666\n",
      "\n",
      "8\n",
      "**********\n",
      "1.7921264092127482\n",
      "0.16666666666666666\n",
      "\n",
      "9\n",
      "**********\n",
      "1.7920837672551473\n",
      "0.16666666666666666\n",
      "\n",
      "10\n",
      "**********\n",
      "1.7920902872085571\n",
      "0.16666666666666666\n",
      "\n",
      "11\n",
      "**********\n",
      "1.7921328242619832\n",
      "0.16666666666666666\n",
      "\n",
      "12\n",
      "**********\n",
      "1.7920765352249146\n",
      "0.16666666666666666\n",
      "\n",
      "13\n",
      "**********\n",
      "1.7920086495081584\n",
      "0.16666666666666666\n",
      "\n",
      "14\n",
      "**********\n",
      "1.7919814888636272\n",
      "0.16666666666666666\n",
      "\n",
      "15\n",
      "**********\n",
      "1.7920080741246542\n",
      "0.16666666666666666\n",
      "\n",
      "16\n",
      "**********\n",
      "1.7919821548461914\n",
      "0.16666666666666666\n",
      "\n",
      "17\n",
      "**********\n",
      "1.791977710723877\n",
      "0.16666666666666666\n",
      "\n",
      "18\n",
      "**********\n",
      "1.7919511874516805\n",
      "0.16666666666666666\n",
      "\n",
      "19\n",
      "**********\n",
      "1.791977203687032\n",
      "0.16666666666666666\n",
      "\n",
      "20\n",
      "**********\n"
     ]
    }
   ],
   "source": [
    "for epoch in range(num_epoch):\n",
    "    print(epoch)\n",
    "    print('*'*10)\n",
    "    running_loss = 0.0\n",
    "    running_acc = 0.0\n",
    "    for data in dataloader['train']:\n",
    "        img, label = data\n",
    "        img = Variable(img).cuda()\n",
    "        label = Variable(label).cuda()\n",
    "        \n",
    "        out = mynet(img)\n",
    "        loss = criterion(out, label)\n",
    "        _, pred = torch.max(out, 1)\n",
    "        \n",
    "        optimizer.zero_grad()\n",
    "        loss.backward()\n",
    "        optimizer.step()\n",
    "        \n",
    "        running_loss += loss.data[0] * label.size(0)\n",
    "        num_correct = torch.sum(pred==label)\n",
    "        running_acc += num_correct.data[0]\n",
    "    running_loss /= data_size['train']\n",
    "    running_acc /= data_size['train']\n",
    "    print(running_loss)\n",
    "    print(running_acc)\n",
    "    print()"
   ]
  },
  {
   "cell_type": "code",
   "execution_count": 22,
   "metadata": {
    "collapsed": false,
    "scrolled": false
   },
   "outputs": [
    {
     "name": "stdout",
     "output_type": "stream",
     "text": [
      "1/50\n",
      "----------\n",
      "1/1, Loss: 1.7920, Acc:0.1688\n",
      "train Loss:1.7917 Acc:0.1633\n",
      "complete in 0m 16 s\n",
      "\n",
      "2/50\n",
      "----------\n"
     ]
    },
    {
     "ename": "RuntimeError",
     "evalue": "cuda runtime error (2) : out of memory at /home/sherlock/Documents/pytorch/torch/lib/THC/generic/THCStorage.cu:66",
     "output_type": "error",
     "traceback": [
      "\u001b[0;31m---------------------------------------------------------------------------\u001b[0m",
      "\u001b[0;31mRuntimeError\u001b[0m                              Traceback (most recent call last)",
      "\u001b[0;32m<ipython-input-22-35e2dd46a27f>\u001b[0m in \u001b[0;36m<module>\u001b[0;34m()\u001b[0m\n\u001b[1;32m     26\u001b[0m \u001b[0;34m\u001b[0m\u001b[0m\n\u001b[1;32m     27\u001b[0m         \u001b[0moptimizer\u001b[0m\u001b[0;34m.\u001b[0m\u001b[0mzero_grad\u001b[0m\u001b[0;34m(\u001b[0m\u001b[0;34m)\u001b[0m \u001b[0;31m# 将梯度归零\u001b[0m\u001b[0;34m\u001b[0m\u001b[0m\n\u001b[0;32m---> 28\u001b[0;31m         \u001b[0mloss\u001b[0m\u001b[0;34m.\u001b[0m\u001b[0mbackward\u001b[0m\u001b[0;34m(\u001b[0m\u001b[0;34m)\u001b[0m\u001b[0;34m\u001b[0m\u001b[0m\n\u001b[0m\u001b[1;32m     29\u001b[0m         \u001b[0moptimizer\u001b[0m\u001b[0;34m.\u001b[0m\u001b[0mstep\u001b[0m\u001b[0;34m(\u001b[0m\u001b[0;34m)\u001b[0m\u001b[0;34m\u001b[0m\u001b[0m\n\u001b[1;32m     30\u001b[0m         \u001b[0;31m# log statistics\u001b[0m\u001b[0;34m\u001b[0m\u001b[0;34m\u001b[0m\u001b[0m\n",
      "\u001b[0;32m/home/sherlock/anaconda3/envs/pytorch/lib/python3.6/site-packages/torch/autograd/variable.py\u001b[0m in \u001b[0;36mbackward\u001b[0;34m(self, gradient, retain_variables)\u001b[0m\n\u001b[1;32m    144\u001b[0m                     'or with gradient w.r.t. the variable')\n\u001b[1;32m    145\u001b[0m             \u001b[0mgradient\u001b[0m \u001b[0;34m=\u001b[0m \u001b[0mself\u001b[0m\u001b[0;34m.\u001b[0m\u001b[0mdata\u001b[0m\u001b[0;34m.\u001b[0m\u001b[0mnew\u001b[0m\u001b[0;34m(\u001b[0m\u001b[0;34m)\u001b[0m\u001b[0;34m.\u001b[0m\u001b[0mresize_as_\u001b[0m\u001b[0;34m(\u001b[0m\u001b[0mself\u001b[0m\u001b[0;34m.\u001b[0m\u001b[0mdata\u001b[0m\u001b[0;34m)\u001b[0m\u001b[0;34m.\u001b[0m\u001b[0mfill_\u001b[0m\u001b[0;34m(\u001b[0m\u001b[0;36m1\u001b[0m\u001b[0;34m)\u001b[0m\u001b[0;34m\u001b[0m\u001b[0m\n\u001b[0;32m--> 146\u001b[0;31m         \u001b[0mself\u001b[0m\u001b[0;34m.\u001b[0m\u001b[0m_execution_engine\u001b[0m\u001b[0;34m.\u001b[0m\u001b[0mrun_backward\u001b[0m\u001b[0;34m(\u001b[0m\u001b[0;34m(\u001b[0m\u001b[0mself\u001b[0m\u001b[0;34m,\u001b[0m\u001b[0;34m)\u001b[0m\u001b[0;34m,\u001b[0m \u001b[0;34m(\u001b[0m\u001b[0mgradient\u001b[0m\u001b[0;34m,\u001b[0m\u001b[0;34m)\u001b[0m\u001b[0;34m,\u001b[0m \u001b[0mretain_variables\u001b[0m\u001b[0;34m)\u001b[0m\u001b[0;34m\u001b[0m\u001b[0m\n\u001b[0m\u001b[1;32m    147\u001b[0m \u001b[0;34m\u001b[0m\u001b[0m\n\u001b[1;32m    148\u001b[0m     \u001b[0;32mdef\u001b[0m \u001b[0mregister_hook\u001b[0m\u001b[0;34m(\u001b[0m\u001b[0mself\u001b[0m\u001b[0;34m,\u001b[0m \u001b[0mhook\u001b[0m\u001b[0;34m)\u001b[0m\u001b[0;34m:\u001b[0m\u001b[0;34m\u001b[0m\u001b[0m\n",
      "\u001b[0;32m/home/sherlock/anaconda3/envs/pytorch/lib/python3.6/site-packages/torch/nn/_functions/linear.py\u001b[0m in \u001b[0;36mbackward\u001b[0;34m(self, grad_output)\u001b[0m\n\u001b[1;32m     22\u001b[0m             \u001b[0mgrad_input\u001b[0m \u001b[0;34m=\u001b[0m \u001b[0mtorch\u001b[0m\u001b[0;34m.\u001b[0m\u001b[0mmm\u001b[0m\u001b[0;34m(\u001b[0m\u001b[0mgrad_output\u001b[0m\u001b[0;34m,\u001b[0m \u001b[0mweight\u001b[0m\u001b[0;34m)\u001b[0m\u001b[0;34m\u001b[0m\u001b[0m\n\u001b[1;32m     23\u001b[0m         \u001b[0;32mif\u001b[0m \u001b[0mself\u001b[0m\u001b[0;34m.\u001b[0m\u001b[0mneeds_input_grad\u001b[0m\u001b[0;34m[\u001b[0m\u001b[0;36m1\u001b[0m\u001b[0;34m]\u001b[0m\u001b[0;34m:\u001b[0m\u001b[0;34m\u001b[0m\u001b[0m\n\u001b[0;32m---> 24\u001b[0;31m             \u001b[0mgrad_weight\u001b[0m \u001b[0;34m=\u001b[0m \u001b[0mtorch\u001b[0m\u001b[0;34m.\u001b[0m\u001b[0mmm\u001b[0m\u001b[0;34m(\u001b[0m\u001b[0mgrad_output\u001b[0m\u001b[0;34m.\u001b[0m\u001b[0mt\u001b[0m\u001b[0;34m(\u001b[0m\u001b[0;34m)\u001b[0m\u001b[0;34m,\u001b[0m \u001b[0minput\u001b[0m\u001b[0;34m)\u001b[0m\u001b[0;34m\u001b[0m\u001b[0m\n\u001b[0m\u001b[1;32m     25\u001b[0m         \u001b[0;32mif\u001b[0m \u001b[0mbias\u001b[0m \u001b[0;32mis\u001b[0m \u001b[0;32mnot\u001b[0m \u001b[0;32mNone\u001b[0m \u001b[0;32mand\u001b[0m \u001b[0mself\u001b[0m\u001b[0;34m.\u001b[0m\u001b[0mneeds_input_grad\u001b[0m\u001b[0;34m[\u001b[0m\u001b[0;36m2\u001b[0m\u001b[0;34m]\u001b[0m\u001b[0;34m:\u001b[0m\u001b[0;34m\u001b[0m\u001b[0m\n\u001b[1;32m     26\u001b[0m             \u001b[0mgrad_bias\u001b[0m \u001b[0;34m=\u001b[0m \u001b[0mtorch\u001b[0m\u001b[0;34m.\u001b[0m\u001b[0mmv\u001b[0m\u001b[0;34m(\u001b[0m\u001b[0mgrad_output\u001b[0m\u001b[0;34m.\u001b[0m\u001b[0mt\u001b[0m\u001b[0;34m(\u001b[0m\u001b[0;34m)\u001b[0m\u001b[0;34m,\u001b[0m \u001b[0mself\u001b[0m\u001b[0;34m.\u001b[0m\u001b[0madd_buffer\u001b[0m\u001b[0;34m)\u001b[0m\u001b[0;34m\u001b[0m\u001b[0m\n",
      "\u001b[0;31mRuntimeError\u001b[0m: cuda runtime error (2) : out of memory at /home/sherlock/Documents/pytorch/torch/lib/THC/generic/THCStorage.cu:66"
     ]
    }
   ],
   "source": [
    "for epoch in range(num_epoch): # 开始每个epoch\n",
    "    since = time.time() # 取得当前时间\n",
    "    print('{}/{}'.format(epoch+1, num_epoch))\n",
    "    print('-'*10)\n",
    "\n",
    "#     for phase in ['train', 'val']: # 判断是train还是validation\n",
    "#     if phase == 'train':\n",
    "\n",
    "    running_loss = 0.0\n",
    "    running_acc = 0.0\n",
    "    for i, data in enumerate(dataloader['train'], 1):\n",
    "        img, label = data\n",
    "        if use_gpu:\n",
    "            img = Variable(img).cuda()\n",
    "            label = Variable(label).cuda()\n",
    "        else:\n",
    "            img = Variable(img)\n",
    "            label = Variable(label)\n",
    "\n",
    "        # forward\n",
    "        output = mynet(img)\n",
    "        _, pred = torch.max(output, 1)\n",
    "        loss = criterion(output, label)\n",
    "        # backward\n",
    "#         if phase == 'train': # 如果是train，则反向传播更新参数\n",
    "\n",
    "        optimizer.zero_grad() # 将梯度归零\n",
    "        loss.backward()\n",
    "        optimizer.step()\n",
    "        # log statistics\n",
    "        running_loss += loss.data[0] * label.size(0)\n",
    "        num_correct = torch.sum(pred == label)\n",
    "        running_acc += num_correct.data[0]\n",
    "        if i % 10 == 0:\n",
    "            print('{}/{}, Loss: {:.4f}, Acc:{:.4f}'.format(i//10, data_size['train']//(10*16), \n",
    "                                                   running_loss/(i*16), running_acc/(i*16)))\n",
    "        \n",
    "    running_loss /= data_size['train']\n",
    "    running_acc /= data_size['train']\n",
    "    print('{} Loss:{:.4f} Acc:{:.4f}'.format('train', running_loss, running_acc))\n",
    "    time_eplise = time.time() - since\n",
    "    print('complete in {:.0f}m {:.0f} s'.format(time_eplise//60, time_eplise%60))\n",
    "#             if phase == 'val' and running_acc > best_acc: # 根据validation 判断更新之后的model是否更好\n",
    "#                 best_acc = running_acc\n",
    "#                 best_model = copy.deepcopy(model)\n",
    "\n",
    "    print()\n"
   ]
  },
  {
   "cell_type": "code",
   "execution_count": null,
   "metadata": {
    "collapsed": true
   },
   "outputs": [],
   "source": [
    "\n",
    "    \n",
    "#     best_model = model\n",
    "#     best_acc = 0.0\n",
    "        \n",
    "for epoch in range(num_epoch): # 开始每个epoch\n",
    "    since = time.time() # 取得当前时间\n",
    "    print('{}/{}'.format(epoch+1, num_epoch))\n",
    "    print('-'*10)\n",
    "\n",
    "    for phase in ['train', 'val']: # 判断是train还是validation\n",
    "        if phase == 'train':\n",
    "            optimizer.zero_grad() # 将梯度归零\n",
    "\n",
    "        running_loss = 0.0\n",
    "        running_acc = 0.0\n",
    "        for data in dataloader[phase]:\n",
    "            img, label = data\n",
    "            if use_gpu:\n",
    "                img = Variable(img).cuda()\n",
    "                label = Variable(label).cuda()\n",
    "            else:\n",
    "                img = Variable(img)\n",
    "                label = Variable(label)\n",
    "\n",
    "            # forward\n",
    "            output = mynet(img)\n",
    "            _, pred = torch.max(output, 1)\n",
    "            loss = criterion(output, label)\n",
    "            # backward\n",
    "            if phase == 'train': # 如果是train，则反向传播更新参数\n",
    "                loss.backward()\n",
    "                optimizer.step()\n",
    "            # log statistics\n",
    "            running_loss += loss.data[0] * label.size(0)\n",
    "            num_correct = torch.sum(pred == label)\n",
    "            running_acc += num_correct.data[0]\n",
    "\n",
    "        running_loss /= data_size[phase]\n",
    "        running_acc /= data_size[phase]\n",
    "        print('{} Loss:{:.4f} Acc:{:.4f}'.format(phase, running_loss, running_acc))\n",
    "    time_eplise = time.time() - since\n",
    "    print('comlete in {:.0f}m{:.0f}s'.format(epoch+1, num_epoch,time_eplise//60, time_eplise%60))\n",
    "#             if phase == 'val' and running_acc > best_acc: # 根据validation 判断更新之后的model是否更好\n",
    "#                 best_acc = running_acc\n",
    "#                 best_model = copy.deepcopy(model)\n",
    "\n",
    "    print()\n"
   ]
  }
 ],
 "metadata": {
  "anaconda-cloud": {},
  "kernelspec": {
   "display_name": "Python [conda env:pytorch]",
   "language": "python",
   "name": "conda-env-pytorch-py"
  },
  "language_info": {
   "codemirror_mode": {
    "name": "ipython",
    "version": 3
   },
   "file_extension": ".py",
   "mimetype": "text/x-python",
   "name": "python",
   "nbconvert_exporter": "python",
   "pygments_lexer": "ipython3",
   "version": "3.6.1"
  }
 },
 "nbformat": 4,
 "nbformat_minor": 1
}
