{
 "cells": [
  {
   "cell_type": "markdown",
   "metadata": {},
   "source": [
    "### import packages"
   ]
  },
  {
   "cell_type": "code",
   "execution_count": 31,
   "metadata": {
    "collapsed": true
   },
   "outputs": [],
   "source": [
    "import torch\n",
    "from torch import nn\n",
    "from torch.autograd import Variable\n",
    "import torch.nn.functional as F\n",
    "from torch import optim\n",
    "from torch.utils.data import DataLoader\n",
    "import torchvision\n",
    "from torchvision import transforms\n",
    "from torchvision.datasets import ImageFolder\n",
    "import os\n",
    "import time\n",
    "import copy"
   ]
  },
  {
   "cell_type": "markdown",
   "metadata": {},
   "source": [
    "### data preprocess"
   ]
  },
  {
   "cell_type": "code",
   "execution_count": 2,
   "metadata": {
    "collapsed": true
   },
   "outputs": [],
   "source": [
    "# 数据预处理，做一些scale，随机crop，normalizaiotn到0-1之间\n",
    "img_transform = {\n",
    "    'train': transforms.Compose([\n",
    "            transforms.Scale(300),\n",
    "            transforms.RandomCrop(224),\n",
    "            transforms.ToTensor(),\n",
    "            transforms.Normalize(0, 255)\n",
    "        ]),\n",
    "    'val': transforms.Compose([\n",
    "            transforms.Scale(300),\n",
    "            transforms.CenterCrop(224),\n",
    "            transforms.ToTensor(),\n",
    "            transforms.Normalize(0, 255)\n",
    "        ])\n",
    "}"
   ]
  },
  {
   "cell_type": "code",
   "execution_count": 3,
   "metadata": {
    "collapsed": true
   },
   "outputs": [],
   "source": [
    "root_path = '../data'"
   ]
  },
  {
   "cell_type": "code",
   "execution_count": 4,
   "metadata": {
    "collapsed": false,
    "scrolled": true
   },
   "outputs": [],
   "source": [
    "#读取数据文件夹\n",
    "dset = {\n",
    "    x: ImageFolder(os.path.join(root_path, x), transform=img_transform[x])\n",
    "    for x in ['train', 'val']\n",
    "}"
   ]
  },
  {
   "cell_type": "code",
   "execution_count": 5,
   "metadata": {
    "collapsed": true
   },
   "outputs": [],
   "source": [
    "#读取数据\n",
    "dataloader = {\n",
    "    'train': DataLoader(dset['train'], batch_size=32, shuffle=True, num_workers=4),\n",
    "    'val': DataLoader(dset['val'], batch_size=32, num_workers=4)\n",
    "}"
   ]
  },
  {
   "cell_type": "code",
   "execution_count": 6,
   "metadata": {
    "collapsed": true
   },
   "outputs": [],
   "source": [
    "#确定数据size\n",
    "data_size = {\n",
    "    x: len(dataloader[x])\n",
    "    for x in ['train', 'val']\n",
    "}"
   ]
  },
  {
   "cell_type": "code",
   "execution_count": 7,
   "metadata": {
    "collapsed": false
   },
   "outputs": [
    {
     "name": "stdout",
     "output_type": "stream",
     "text": [
      "size of train data set: 1\n",
      "size of validation data set: 1\n"
     ]
    }
   ],
   "source": [
    "print('size of train data set: {}'.format(data_size['train']))# 每个文件夹放了一张图片做一个示例\n",
    "print('size of validation data set: {}'.format(data_size['val']))"
   ]
  },
  {
   "cell_type": "code",
   "execution_count": 8,
   "metadata": {
    "collapsed": false
   },
   "outputs": [],
   "source": [
    "img_classes = dataloader['train'].dataset.classes"
   ]
  },
  {
   "cell_type": "code",
   "execution_count": 9,
   "metadata": {
    "collapsed": false
   },
   "outputs": [
    {
     "name": "stdout",
     "output_type": "stream",
     "text": [
      "class of province: ['四川', '安徽', '浙江']\n"
     ]
    }
   ],
   "source": [
    "# 创建了三个省份作为示例，顺序按照文件夹的顺序\n",
    "print('class of province: {}'.format(img_classes))"
   ]
  },
  {
   "cell_type": "code",
   "execution_count": 10,
   "metadata": {
    "collapsed": true
   },
   "outputs": [],
   "source": [
    "#判断能不能用cuda，增加鲁棒性\n",
    "use_gpu = torch.cuda.is_available()"
   ]
  },
  {
   "cell_type": "code",
   "execution_count": 11,
   "metadata": {
    "collapsed": false
   },
   "outputs": [
    {
     "name": "stdout",
     "output_type": "stream",
     "text": [
      "in my computer, cuda availabel? \n",
      "True\n"
     ]
    }
   ],
   "source": [
    "print(\"in my computer, cuda availabel? \\n{}\".format(use_gpu))"
   ]
  },
  {
   "cell_type": "markdown",
   "metadata": {},
   "source": [
    "## build vgg net\n",
    "之所以选择vgg因为这个问题不需要太复杂的网络，所以选择了一个相对简单的网络结构  \n",
    "详细网络结构见下面网址\n",
    "http://ethereon.github.io/netscope/#/gist/dc5003de6943ea5a6b8b"
   ]
  },
  {
   "cell_type": "code",
   "execution_count": 20,
   "metadata": {
    "collapsed": true
   },
   "outputs": [],
   "source": [
    "class vgg16(nn.Module):\n",
    "    def __init__(self, in_c, out_class):\n",
    "        super(vgg16, self).__init__()\n",
    "        self.conv1 = nn.Sequential(\n",
    "                nn.Conv2d(in_c, 64, 3, stride=1, padding=1),\n",
    "                nn.ReLU(),\n",
    "                nn.Conv2d(64, 64, 3, stride=1, padding=1),\n",
    "                nn.ReLU()\n",
    "            )\n",
    "        self.conv2 = nn.Sequential(\n",
    "                nn.Conv2d(64, 128, 3, stride=1, padding=1),\n",
    "                nn.ReLU(),\n",
    "                nn.Conv2d(128, 128, 3, stride=1, padding=1),\n",
    "                nn.ReLU()\n",
    "            )\n",
    "        self.conv3 = nn.Sequential(\n",
    "                nn.Conv2d(128, 256, 3, stride=1, padding=1),\n",
    "                nn.ReLU(),\n",
    "                nn.Conv2d(256, 256, 3, stride=1, padding=1),\n",
    "                nn.ReLU(),\n",
    "                nn.Conv2d(256, 256, 3, stride=1, padding=1),\n",
    "                nn.ReLU()\n",
    "            )\n",
    "        self.conv4 = nn.Sequential(\n",
    "                nn.Conv2d(256, 512, 3, stride=1, padding=1),\n",
    "                nn.ReLU(),\n",
    "                nn.Conv2d(512, 512, 3, stride=1, padding=1),\n",
    "                nn.ReLU(),\n",
    "                nn.Conv2d(512, 512, 3, stride=1, padding=1),\n",
    "                nn.ReLU()\n",
    "            )\n",
    "        self.conv5 = nn.Sequential(\n",
    "                nn.Conv2d(512, 512, 3, stride=1, padding=1),\n",
    "                nn.ReLU(),\n",
    "                nn.Conv2d(512, 512, 3, stride=1, padding=1),\n",
    "                nn.ReLU(),\n",
    "                nn.Conv2d(512, 512, 3, stride=1, padding=1),\n",
    "                nn.ReLU()\n",
    "            )\n",
    "        self.fc1 = nn.Sequential(\n",
    "                nn.Linear(512 * 7 * 7, 4096),\n",
    "                nn.ReLU(),\n",
    "                nn.Dropout(0.5),\n",
    "                nn.Linear(4096, 1000),\n",
    "                nn.ReLU(),\n",
    "                nn.Dropout(0.5)\n",
    "            )\n",
    "        self.fc2 = nn.Sequential(\n",
    "                nn.Linear(1000, 500),\n",
    "                nn.ReLU(),\n",
    "                nn.Dropout(0.5)\n",
    "            )\n",
    "        self.fc3 = nn.Linear(500, out_class)\n",
    "        \n",
    "    def forward(self, x):\n",
    "        out = self.conv1(x)\n",
    "        out = F.max_pool2d(out, 2, stride=2)\n",
    "        out = self.conv2(out)\n",
    "        out = F.max_pool2d(out, 2, stride=2)\n",
    "        out = self.conv3(out)\n",
    "        out = F.max_pool2d(out, 2, stride=2)\n",
    "        out = self.conv4(out)\n",
    "        out = F.max_pool2d(out, 2, stride=2)\n",
    "        out = self.conv5(out)\n",
    "        out = F.max_pool2d(out, 2, stride=2)\n",
    "        out = self.fc1(out)\n",
    "        out = self.fc2(out)\n",
    "        out = self.fc3(out)\n",
    "        return out"
   ]
  },
  {
   "cell_type": "code",
   "execution_count": 21,
   "metadata": {
    "collapsed": false
   },
   "outputs": [],
   "source": [
    "mynet = vgg16(1, 6)"
   ]
  },
  {
   "cell_type": "code",
   "execution_count": 22,
   "metadata": {
    "collapsed": true
   },
   "outputs": [],
   "source": [
    "if use_gpu:\n",
    "    mynet = mynet.cuda()"
   ]
  },
  {
   "cell_type": "code",
   "execution_count": 25,
   "metadata": {
    "collapsed": false
   },
   "outputs": [
    {
     "name": "stdout",
     "output_type": "stream",
     "text": [
      "network structure:\n"
     ]
    },
    {
     "data": {
      "text/plain": [
       "vgg16 (\n",
       "  (conv1): Sequential (\n",
       "    (0): Conv2d(1, 64, kernel_size=(3, 3), stride=(1, 1), padding=(1, 1))\n",
       "    (1): ReLU ()\n",
       "    (2): Conv2d(64, 64, kernel_size=(3, 3), stride=(1, 1), padding=(1, 1))\n",
       "    (3): ReLU ()\n",
       "  )\n",
       "  (conv2): Sequential (\n",
       "    (0): Conv2d(64, 128, kernel_size=(3, 3), stride=(1, 1), padding=(1, 1))\n",
       "    (1): ReLU ()\n",
       "    (2): Conv2d(128, 128, kernel_size=(3, 3), stride=(1, 1), padding=(1, 1))\n",
       "    (3): ReLU ()\n",
       "  )\n",
       "  (conv3): Sequential (\n",
       "    (0): Conv2d(128, 256, kernel_size=(3, 3), stride=(1, 1), padding=(1, 1))\n",
       "    (1): ReLU ()\n",
       "    (2): Conv2d(256, 256, kernel_size=(3, 3), stride=(1, 1), padding=(1, 1))\n",
       "    (3): ReLU ()\n",
       "    (4): Conv2d(256, 256, kernel_size=(3, 3), stride=(1, 1), padding=(1, 1))\n",
       "    (5): ReLU ()\n",
       "  )\n",
       "  (conv4): Sequential (\n",
       "    (0): Conv2d(256, 512, kernel_size=(3, 3), stride=(1, 1), padding=(1, 1))\n",
       "    (1): ReLU ()\n",
       "    (2): Conv2d(512, 512, kernel_size=(3, 3), stride=(1, 1), padding=(1, 1))\n",
       "    (3): ReLU ()\n",
       "    (4): Conv2d(512, 512, kernel_size=(3, 3), stride=(1, 1), padding=(1, 1))\n",
       "    (5): ReLU ()\n",
       "  )\n",
       "  (conv5): Sequential (\n",
       "    (0): Conv2d(512, 512, kernel_size=(3, 3), stride=(1, 1), padding=(1, 1))\n",
       "    (1): ReLU ()\n",
       "    (2): Conv2d(512, 512, kernel_size=(3, 3), stride=(1, 1), padding=(1, 1))\n",
       "    (3): ReLU ()\n",
       "    (4): Conv2d(512, 512, kernel_size=(3, 3), stride=(1, 1), padding=(1, 1))\n",
       "    (5): ReLU ()\n",
       "  )\n",
       "  (fc1): Sequential (\n",
       "    (0): Linear (25088 -> 4096)\n",
       "    (1): ReLU ()\n",
       "    (2): Dropout (p = 0.5)\n",
       "    (3): Linear (4096 -> 1000)\n",
       "    (4): ReLU ()\n",
       "    (5): Dropout (p = 0.5)\n",
       "  )\n",
       "  (fc2): Sequential (\n",
       "    (0): Linear (1000 -> 500)\n",
       "    (1): ReLU ()\n",
       "    (2): Dropout (p = 0.5)\n",
       "  )\n",
       "  (fc3): Linear (500 -> 6)\n",
       ")"
      ]
     },
     "execution_count": 25,
     "metadata": {},
     "output_type": "execute_result"
    }
   ],
   "source": [
    "print('network structure:')\n",
    "mynet"
   ]
  },
  {
   "cell_type": "code",
   "execution_count": 27,
   "metadata": {
    "collapsed": true
   },
   "outputs": [],
   "source": [
    "# define optimizer and loss\n",
    "optimizer = optim.SGD(mynet.parameters(), lr=1e-3, momentum=0.9) # 随机梯度下降，之后可以选择别的速度更快的如rmsprop\n",
    "criterion = nn.CrossEntropyLoss()"
   ]
  },
  {
   "cell_type": "markdown",
   "metadata": {},
   "source": [
    "### begin train"
   ]
  },
  {
   "cell_type": "code",
   "execution_count": 28,
   "metadata": {
    "collapsed": true
   },
   "outputs": [],
   "source": [
    "epoches = 100"
   ]
  },
  {
   "cell_type": "code",
   "execution_count": 32,
   "metadata": {
    "collapsed": true
   },
   "outputs": [],
   "source": [
    "def train_model(model, criterion, optimizer, num_epoch=epoches):\n",
    "    since = time.time() # 取得当前时间\n",
    "    \n",
    "    best_model = model\n",
    "    best_acc = 0.0\n",
    "        \n",
    "    for epoch in range(num_epoch): # 开始每个epoch\n",
    "        print('{}/{}'.format(epoch+1, num_epoch))\n",
    "        print('-'*10)\n",
    "    \n",
    "        for phase in ['train', 'val']: # 判断是train还是validation\n",
    "            if phase == 'train':\n",
    "                optimizer.zero_grad() # 将梯度归零\n",
    "            \n",
    "            running_loss = 0.0\n",
    "            running_acc = 0.0\n",
    "            for data in dataloader[phase]:\n",
    "                img, label = data\n",
    "                if use_gpu:\n",
    "                    img = Variable(img).cuda()\n",
    "                    label = Variable(label).cuda()\n",
    "                else:\n",
    "                    img = Variable(img)\n",
    "                    label = Variable(label)\n",
    "                \n",
    "                # forward\n",
    "                output = model(img)\n",
    "                _, pred = torch.max(output, 1)\n",
    "                loss = criterion(output, label)\n",
    "                # backward\n",
    "                if phase == 'train': # 如果是train，则反向传播更新参数\n",
    "                    loss.backward()\n",
    "                    optimizer.step()\n",
    "                # log statistics\n",
    "                running_loss += loss.data[0] * label.size(0)\n",
    "                num_correct = torch.sum(pred == label)\n",
    "                running_acc += num_correct.data[0]\n",
    "\n",
    "            running_loss /= datasize[phase]\n",
    "            running_acc /= datasize[phase]\n",
    "            print('{} Loss:{:.4f} Acc:{:.4f}'.format(phase, running_loss, running_acc))\n",
    "            if phase == 'val' and running_acc > best_acc: # 根据validation 判断更新之后的model是否更好\n",
    "                best_acc = running_acc\n",
    "                best_model = copy.deepcopy(model)\n",
    "\n",
    "        print()\n",
    "    time_eplise = time.time() - since\n",
    "    print('Traing comlete in {:.0f}m{:.0f}s'.format(time_eplise//60, time_eplise%60))\n",
    "    print('Best Acc:{:.4f}'.format(best_acc))\n",
    "    return best_model"
   ]
  }
 ],
 "metadata": {
  "anaconda-cloud": {},
  "kernelspec": {
   "display_name": "Python [conda env:pytorch]",
   "language": "python",
   "name": "conda-env-pytorch-py"
  },
  "language_info": {
   "codemirror_mode": {
    "name": "ipython",
    "version": 3
   },
   "file_extension": ".py",
   "mimetype": "text/x-python",
   "name": "python",
   "nbconvert_exporter": "python",
   "pygments_lexer": "ipython3",
   "version": "3.6.1"
  }
 },
 "nbformat": 4,
 "nbformat_minor": 1
}
